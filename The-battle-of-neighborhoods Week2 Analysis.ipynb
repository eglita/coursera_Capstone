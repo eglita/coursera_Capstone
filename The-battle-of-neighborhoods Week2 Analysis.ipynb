{
 "cells": [
  {
   "cell_type": "markdown",
   "metadata": {
    "collapsed": true
   },
   "source": [
    "# Introduction"
   ]
  },
  {
   "cell_type": "markdown",
   "metadata": {},
   "source": [
    "New York has around 8.4 million people (2018) and is famous for its ethnical diversity. New York City comprises 5 boroughs sitting where the Hudson River meets the Atlantic Ocean. At its core is Manhattan, a densely populated borough that’s among the world’s major commercial, financial and cultural centers. It is the largest city in the US with a long history of international immigration, as a result NYC is rich in selection of cuisines available to everyone's taste. \n",
    "\n",
    "I've always been a big fan of spanish tapas, and my fabourite place in London is \"Paloma\". The owner of \"Paloma\" reached out to me to do an exploratory analysis on Spanish restaurant in New York as it would be another hot spot for a tapas restaurant. \n",
    "\n",
    "Now, for a restaurateur who wants to open a new restaurant in this megapolis, it is important to do a thorough analysis of the market - know what types of restaurants spanish tapas menu and where are trending in the city and decide what neiborhood would be the best to open a trendy and cosy spanish tapas place. Equally, for someone who wants to experience a new spanish place - where would they go?\n"
   ]
  },
  {
   "cell_type": "markdown",
   "metadata": {},
   "source": [
    "# Data"
   ]
  },
  {
   "cell_type": "markdown",
   "metadata": {},
   "source": [
    "To be able to answer the questions raised in the introduction, we will need to look at data on New York city that contains neighborhoods, latitude, longitude, boroughs (which will help us establish boundaries), restaurants, restaurant ratings and feedback are required. This data will be retrieved from multiple data sources.\n",
    "Firstly, the data on the neighborhoods and boroughs, latitudes, and longitudes will be obtained from the following source: https://cocl.us/new_york_dataset\n",
    "Secondly, venue data related to locations and quality of spanish restaurant  will be obtained via the FourSquare API utilized via the Request library in Python.\n",
    "\n"
   ]
  },
  {
   "cell_type": "markdown",
   "metadata": {},
   "source": [
    "# Methodology"
   ]
  },
  {
   "cell_type": "markdown",
   "metadata": {},
   "source": [
    "Data on neighborhoods, boroughs, longitudes and latitudes will be collected from https://cocl.us/new_york_dataset, then cleaned and processed into a dataframe.\n",
    "FourSquare be used to locate all venues. Once we have them, we can then filter only spanish places. \n",
    "\n",
    "Additinal information such as ratings, feedback, and likes by users on FourSquere will be added to the dataframe. Data will be sorted based on rankings. Data will be visually assessed using graphing from Python libraries.\n"
   ]
  },
  {
   "cell_type": "markdown",
   "metadata": {},
   "source": [
    "### Problem statement / Answers I will aim to answer"
   ]
  },
  {
   "cell_type": "markdown",
   "metadata": {},
   "source": [
    "<li>\n",
    "So where should we open a new spanish place in New York and why?\n",
    "<li> Where would I go in New York to explore the best/new brunch place?\n",
    "    \n",
    "</li>\n"
   ]
  },
  {
   "cell_type": "markdown",
   "metadata": {},
   "source": [
    "### To be able to do an exploratory analysis, let's import required libraries"
   ]
  },
  {
   "cell_type": "code",
   "execution_count": 1,
   "metadata": {},
   "outputs": [
    {
     "name": "stdout",
     "output_type": "stream",
     "text": [
      "Collecting folium\n",
      "  Downloading folium-0.11.0-py2.py3-none-any.whl (93 kB)\n",
      "\u001b[K     |████████████████████████████████| 93 kB 3.3 MB/s eta 0:00:011\n",
      "\u001b[?25hRequirement already satisfied: requests in /opt/conda/envs/Python-3.7-main/lib/python3.7/site-packages (from folium) (2.24.0)\n",
      "Collecting branca>=0.3.0\n",
      "  Downloading branca-0.4.1-py3-none-any.whl (24 kB)\n",
      "Requirement already satisfied: jinja2>=2.9 in /opt/conda/envs/Python-3.7-main/lib/python3.7/site-packages (from folium) (2.11.2)\n",
      "Requirement already satisfied: numpy in /opt/conda/envs/Python-3.7-main/lib/python3.7/site-packages (from folium) (1.18.5)\n",
      "Requirement already satisfied: idna<3,>=2.5 in /opt/conda/envs/Python-3.7-main/lib/python3.7/site-packages (from requests->folium) (2.9)\n",
      "Requirement already satisfied: certifi>=2017.4.17 in /opt/conda/envs/Python-3.7-main/lib/python3.7/site-packages (from requests->folium) (2020.6.20)\n",
      "Requirement already satisfied: urllib3!=1.25.0,!=1.25.1,<1.26,>=1.21.1 in /opt/conda/envs/Python-3.7-main/lib/python3.7/site-packages (from requests->folium) (1.25.9)\n",
      "Requirement already satisfied: chardet<4,>=3.0.2 in /opt/conda/envs/Python-3.7-main/lib/python3.7/site-packages (from requests->folium) (3.0.4)\n",
      "Requirement already satisfied: MarkupSafe>=0.23 in /opt/conda/envs/Python-3.7-main/lib/python3.7/site-packages (from jinja2>=2.9->folium) (1.1.1)\n",
      "Installing collected packages: branca, folium\n",
      "Successfully installed branca-0.4.1 folium-0.11.0\n",
      "Libraries imported.\n"
     ]
    }
   ],
   "source": [
    "import pandas as pd\n",
    "import numpy as np\n",
    "\n",
    "pd.set_option('display.max_columns', None)\n",
    "pd.set_option('display.max_rows', None)\n",
    "\n",
    "import requests\n",
    "from bs4 import BeautifulSoup\n",
    "from geopy.geocoders import Nominatim # convert an address into latitude and longitude values\n",
    "!pip install folium\n",
    "\n",
    "import os\n",
    "import folium # map rendering library\n",
    "# Matplotlib and associated plotting modules\n",
    "\n",
    "import matplotlib.pyplot as plt\n",
    "import matplotlib.cm as cm\n",
    "import matplotlib.colors as colors\n",
    "import matplotlib as mp\n",
    "import re\n",
    "import csv\n",
    "%matplotlib inline\n",
    "\n",
    "\n",
    "print('Libraries imported.')"
   ]
  },
  {
   "cell_type": "markdown",
   "metadata": {},
   "source": [
    "### Provide Foursquare credentials"
   ]
  },
  {
   "cell_type": "code",
   "execution_count": 2,
   "metadata": {},
   "outputs": [
    {
     "name": "stdout",
     "output_type": "stream",
     "text": [
      "Your credentails:\n",
      "CLIENT_ID: HMIYZSHDP5FUORM0C44WIJJVPOHG32NKFHYV01OVUUTBZ0L2\n",
      "CLIENT_SECRET:XKPUQCUHLT2U5OMUPWE0I3POIXBOD4QO0TTQGPKAXC534TM0\n"
     ]
    }
   ],
   "source": [
    "# Define Foursquare Credentials and Version\n",
    "\n",
    "\n",
    "radius=1000\n",
    "LIMIT=100\n",
    "CLIENT_ID = 'HMIYZSHDP5FUORM0C44WIJJVPOHG32NKFHYV01OVUUTBZ0L2' # your Foursquare ID\n",
    "CLIENT_SECRET = 'XKPUQCUHLT2U5OMUPWE0I3POIXBOD4QO0TTQGPKAXC534TM0' # your Foursquare Secret\n",
    "VERSION = '20180605' # Foursquare API version\n",
    "\n",
    "print('Your credentails:')\n",
    "print('CLIENT_ID: ' + CLIENT_ID)\n",
    "print('CLIENT_SECRET:' + CLIENT_SECRET)\n",
    "\n",
    "\n"
   ]
  },
  {
   "cell_type": "markdown",
   "metadata": {},
   "source": [
    "### Define functions to be used in the project"
   ]
  },
  {
   "cell_type": "code",
   "execution_count": 3,
   "metadata": {},
   "outputs": [],
   "source": [
    "def geo_location(address):\n",
    "    # get geo location of address\n",
    "    geolocator = Nominatim(user_agent=\"ny_explorer\")\n",
    "    locatidn = geolocator.geocode(address)\n",
    "    latitude = location.latitude\n",
    "    longitude = location.longitude\n",
    "    return latitude,longitude\n",
    "\n",
    "#Define a function to intract with FourSquare API and get top 100 venues within a radius of 1000 metres for a given latitude and longitude.\n",
    "\n",
    "def get_venues(lat,lng):\n",
    "    \n",
    "    #set variables\n",
    "    radius=1000\n",
    "    LIMIT=100\n",
    "    CLIENT_ID = 'SJVNROHFKAQ0CZ5ULIM0V5K5IXUPI2UV1FARMVENUHS3HB4F'# Foursquare ID, note there is a daily call quota limit \n",
    "    CLIENT_SECRET ='W1H0JXEDQWHBWX1ZZYT2IXCRTWLGPSNQ2NOGQ5IA4ZKCQKEU' # Foursquare Secret, note there is a daily call quota it\n",
    "    VERSION = '20180605' # Foursquare API version\n",
    "    \n",
    "    #url to fetch data from foursquare api\n",
    "    url = 'https://api.foursquare.com/v2/venues/explore?&client_id={}&client_secret={}&v={}&ll={},{}&radius={}&limit={}'.format(\n",
    "            CLIENT_ID, \n",
    "            CLIENT_SECRET, \n",
    "            VERSION, \n",
    "            lat, \n",
    "            lng, \n",
    "            radius, \n",
    "            LIMIT)\n",
    "    \n",
    "    # get all the data\n",
    "    results = requests.get(url).json()\n",
    "    venue_data=results[\"response\"]['groups'][0]['items']\n",
    "    venue_details=[]\n",
    "    for row in venue_data:\n",
    "        try:\n",
    "            venue_id=row['venue']['id']\n",
    "            venue_name=row['venue']['name']\n",
    "            venue_category=row['venue']['categories'][0]['name']\n",
    "            venue_details.append([venue_id,venue_name,venue_category])\n",
    "        except KeyError:\n",
    "            pass\n",
    "        \n",
    "    column_names=['ID','Name','Category']\n",
    "    df = pd.DataFrame(venue_details,columns=column_names)\n",
    "    return df\n",
    "\n",
    "import json, requests\n",
    "url = 'https://api.foursquare.com/v2/venues/explore'\n",
    "\n",
    "params = dict(\n",
    "client_id='CLIENT_ID',\n",
    "client_secret='CLIENT_SECRET',\n",
    "v='20180323',\n",
    "ll='40.7243,-74.0018',\n",
    "query='coffee',\n",
    "limit=1\n",
    ")\n",
    "resp = requests.get(url=url, params=params)\n",
    "data = json.loads(resp.text)"
   ]
  },
  {
   "cell_type": "markdown",
   "metadata": {},
   "source": [
    "### Define functions for venue details and neighborhoods"
   ]
  },
  {
   "cell_type": "code",
   "execution_count": 4,
   "metadata": {},
   "outputs": [],
   "source": [
    "#Define a function to get venue details like like count , rating , tip counts for a given venue id. to be used for ranking.\n",
    "\n",
    "def get_venue_details(venue_id):\n",
    "        \n",
    "    CLIENT_ID = 'FM32E0UU4KR1WU4VZIG1F5G1J2XFMKEGNF52UGPTSQ1J1CF1'# Foursquare ID, note there is a daily call quota limit \n",
    "    CLIENT_SECRET ='R5SUZ4FBHNDVUMHP15ZKFIKI5VCQBLGPYSFGZY2LYQXMILX2' # Foursquare Secret, note there is a daily call quota it it\n",
    "    VERSION = '20180605' # Foursquare API version\n",
    "    \n",
    "    #url to fetch data from foursquare api\n",
    "    url = 'https://api.foursquare.com/v2/venues/{}?&client_id={}&client_secret={}&v={}'.format(\n",
    "            venue_id,\n",
    "            CLIENT_ID, \n",
    "            CLIENT_SECRET, \n",
    "            VERSION)\n",
    "    \n",
    "    # get all the data\n",
    "    results = requests.get(url).json()\n",
    "    venue_data=results['response']['venue']\n",
    "    venue_details=[]\n",
    "    try:\n",
    "        venue_id=venue_data['id']\n",
    "        venue_name=venue_data['name']\n",
    "        venue_likes=venue_data['likes']['count']\n",
    "        venue_rating=venue_data['rating']\n",
    "        venue_tips=venue_data['tips']['count']\n",
    "        venue_details.append([venue_id,venue_name,venue_likes,venue_rating,venue_tips])\n",
    "    except KeyError:\n",
    "        pass\n",
    "        \n",
    "    column_names=['ID','Name','Likes','Rating','Tips']\n",
    "    df = pd.DataFrame(venue_details,columns=column_names)\n",
    "    return df\n"
   ]
  },
  {
   "cell_type": "code",
   "execution_count": 5,
   "metadata": {},
   "outputs": [],
   "source": [
    "# Define a function to get boroughs, neighborhoods, Latitute and Longitute\n",
    "\n",
    "def get_new_york_data():\n",
    "    url='https://cocl.us/new_york_dataset'\n",
    "    resp=requests.get(url).json()\n",
    "    # all data is present in features label\n",
    "    features=resp['features']\n",
    "    \n",
    "    # define the dataframe columns\n",
    "    column_names = ['Borough', 'Neighborhood', 'Latitude', 'Longitude'] \n",
    "    # instantiate the dataframe\n",
    "    new_york_data = pd.DataFrame(columns=column_names)\n",
    "    \n",
    "    for data in features:\n",
    "        borough = data['properties']['borough'] \n",
    "        neighborhood_name = data['properties']['name']\n",
    "        \n",
    "        neighborhood_latlon = data['geometry']['coordinates']\n",
    "        neighborhood_lat = neighborhood_latlon[1]\n",
    "        neighborhood_lon = neighborhood_latlon[0]\n",
    "    \n",
    "        new_york_data = new_york_data.append({'Borough': borough,\n",
    "                                          'Neighborhood': neighborhood_name,\n",
    "                                          'Latitude': neighborhood_lat,\n",
    "                                          'Longitude': neighborhood_lon}, ignore_index=True)\n",
    "    \n",
    "    return new_york_data"
   ]
  },
  {
   "cell_type": "code",
   "execution_count": 6,
   "metadata": {},
   "outputs": [],
   "source": [
    "# get new york data\n",
    "new_york_data=get_new_york_data()"
   ]
  },
  {
   "cell_type": "code",
   "execution_count": 7,
   "metadata": {},
   "outputs": [
    {
     "data": {
      "text/html": [
       "<div>\n",
       "<style scoped>\n",
       "    .dataframe tbody tr th:only-of-type {\n",
       "        vertical-align: middle;\n",
       "    }\n",
       "\n",
       "    .dataframe tbody tr th {\n",
       "        vertical-align: top;\n",
       "    }\n",
       "\n",
       "    .dataframe thead th {\n",
       "        text-align: right;\n",
       "    }\n",
       "</style>\n",
       "<table border=\"1\" class=\"dataframe\">\n",
       "  <thead>\n",
       "    <tr style=\"text-align: right;\">\n",
       "      <th></th>\n",
       "      <th>Borough</th>\n",
       "      <th>Neighborhood</th>\n",
       "      <th>Latitude</th>\n",
       "      <th>Longitude</th>\n",
       "    </tr>\n",
       "  </thead>\n",
       "  <tbody>\n",
       "    <tr>\n",
       "      <th>0</th>\n",
       "      <td>Bronx</td>\n",
       "      <td>Wakefield</td>\n",
       "      <td>40.894705</td>\n",
       "      <td>-73.847201</td>\n",
       "    </tr>\n",
       "    <tr>\n",
       "      <th>1</th>\n",
       "      <td>Bronx</td>\n",
       "      <td>Co-op City</td>\n",
       "      <td>40.874294</td>\n",
       "      <td>-73.829939</td>\n",
       "    </tr>\n",
       "    <tr>\n",
       "      <th>2</th>\n",
       "      <td>Bronx</td>\n",
       "      <td>Eastchester</td>\n",
       "      <td>40.887556</td>\n",
       "      <td>-73.827806</td>\n",
       "    </tr>\n",
       "    <tr>\n",
       "      <th>3</th>\n",
       "      <td>Bronx</td>\n",
       "      <td>Fieldston</td>\n",
       "      <td>40.895437</td>\n",
       "      <td>-73.905643</td>\n",
       "    </tr>\n",
       "    <tr>\n",
       "      <th>4</th>\n",
       "      <td>Bronx</td>\n",
       "      <td>Riverdale</td>\n",
       "      <td>40.890834</td>\n",
       "      <td>-73.912585</td>\n",
       "    </tr>\n",
       "  </tbody>\n",
       "</table>\n",
       "</div>"
      ],
      "text/plain": [
       "  Borough Neighborhood   Latitude  Longitude\n",
       "0   Bronx    Wakefield  40.894705 -73.847201\n",
       "1   Bronx   Co-op City  40.874294 -73.829939\n",
       "2   Bronx  Eastchester  40.887556 -73.827806\n",
       "3   Bronx    Fieldston  40.895437 -73.905643\n",
       "4   Bronx    Riverdale  40.890834 -73.912585"
      ]
     },
     "execution_count": 7,
     "metadata": {},
     "output_type": "execute_result"
    }
   ],
   "source": [
    "new_york_data.head()"
   ]
  },
  {
   "cell_type": "code",
   "execution_count": 8,
   "metadata": {},
   "outputs": [
    {
     "data": {
      "text/plain": [
       "(306, 4)"
      ]
     },
     "execution_count": 8,
     "metadata": {},
     "output_type": "execute_result"
    }
   ],
   "source": [
    "# Let's check how many rows we have to determine the number of boroughs:\n",
    "new_york_data.shape"
   ]
  },
  {
   "cell_type": "markdown",
   "metadata": {},
   "source": [
    "### Number of Neighborhoods by Borough in NYC"
   ]
  },
  {
   "cell_type": "code",
   "execution_count": 9,
   "metadata": {},
   "outputs": [
    {
     "data": {
      "image/png": "[encoded data removed]",
      "text/plain": [
       "<Figure size 720x400 with 1 Axes>"
      ]
     },
     "metadata": {},
     "output_type": "display_data"
    }
   ],
   "source": [
    "from matplotlib import pyplot as plt\n",
    "plt.style.use('ggplot')\n",
    "plt.figure(figsize=(9,5), dpi = 80)\n",
    "# title\n",
    "plt.title('Number of Neighbourhood in NYC by Borough')\n",
    "#On x-axis\n",
    "plt.xlabel('Borough', fontsize = 16)\n",
    "#On y-axis\n",
    "plt.ylabel('No.of Neighborhood', fontsize=16)\n",
    "#giving a bar plot\n",
    "new_york_data.groupby('Borough')['Neighborhood'].count().plot(kind='bar')\n",
    "#legend\n",
    "plt.legend()\n",
    "plt.show()"
   ]
  },
  {
   "cell_type": "markdown",
   "metadata": {},
   "source": [
    "From the plot above, we can see that Queens Borough has the highest number of Neighborhoods, which also suggest the highest density."
   ]
  },
  {
   "cell_type": "code",
   "execution_count": 10,
   "metadata": {},
   "outputs": [
    {
     "name": "stdout",
     "output_type": "stream",
     "text": [
      "( 1 / 306 ) Spanish Resturants in Wakefield, Bronx:1\n",
      "( 2 / 306 ) Spanish Resturants in Co-op City, Bronx:1\n",
      "( 3 / 306 ) Spanish Resturants in Eastchester, Bronx:0\n",
      "( 4 / 306 ) Spanish Resturants in Fieldston, Bronx:0\n",
      "( 5 / 306 ) Spanish Resturants in Riverdale, Bronx:0\n",
      "( 6 / 306 ) Spanish Resturants in Kingsbridge, Bronx:2\n",
      "( 7 / 306 ) Spanish Resturants in Marble Hill, Manhattan:3\n",
      "( 8 / 306 ) Spanish Resturants in Woodlawn, Bronx:0\n",
      "( 9 / 306 ) Spanish Resturants in Norwood, Bronx:2\n",
      "( 10 / 306 ) Spanish Resturants in Williamsbridge, Bronx:0\n",
      "( 11 / 306 ) Spanish Resturants in Baychester, Bronx:2\n",
      "( 12 / 306 ) Spanish Resturants in Pelham Parkway, Bronx:0\n",
      "( 13 / 306 ) Spanish Resturants in City Island, Bronx:1\n",
      "( 14 / 306 ) Spanish Resturants in Bedford Park, Bronx:2\n",
      "( 15 / 306 ) Spanish Resturants in University Heights, Bronx:3\n",
      "( 16 / 306 ) Spanish Resturants in Morris Heights, Bronx:2\n",
      "( 17 / 306 ) Spanish Resturants in Fordham, Bronx:5\n",
      "( 18 / 306 ) Spanish Resturants in East Tremont, Bronx:0\n",
      "( 19 / 306 ) Spanish Resturants in West Farms, Bronx:0\n",
      "( 20 / 306 ) Spanish Resturants in High  Bridge, Bronx:0\n",
      "( 21 / 306 ) Spanish Resturants in Melrose, Bronx:2\n",
      "( 22 / 306 ) Spanish Resturants in Mott Haven, Bronx:1\n",
      "( 23 / 306 ) Spanish Resturants in Port Morris, Bronx:0\n",
      "( 24 / 306 ) Spanish Resturants in Longwood, Bronx:2\n",
      "( 25 / 306 ) Spanish Resturants in Hunts Point, Bronx:1\n",
      "( 26 / 306 ) Spanish Resturants in Morrisania, Bronx:1\n",
      "( 27 / 306 ) Spanish Resturants in Soundview, Bronx:0\n",
      "( 28 / 306 ) Spanish Resturants in Clason Point, Bronx:0\n",
      "( 29 / 306 ) Spanish Resturants in Throgs Neck, Bronx:0\n",
      "( 30 / 306 ) Spanish Resturants in Country Club, Bronx:0\n",
      "( 31 / 306 ) Spanish Resturants in Parkchester, Bronx:3\n",
      "( 32 / 306 ) Spanish Resturants in Westchester Square, Bronx:1\n",
      "( 33 / 306 ) Spanish Resturants in Van Nest, Bronx:3\n",
      "( 34 / 306 ) Spanish Resturants in Morris Park, Bronx:2\n",
      "( 35 / 306 ) Spanish Resturants in Belmont, Bronx:2\n",
      "( 36 / 306 ) Spanish Resturants in Spuyten Duyvil, Bronx:0\n",
      "( 37 / 306 ) Spanish Resturants in North Riverdale, Bronx:0\n",
      "( 38 / 306 ) Spanish Resturants in Pelham Bay, Bronx:0\n",
      "( 39 / 306 ) Spanish Resturants in Schuylerville, Bronx:0\n",
      "( 40 / 306 ) Spanish Resturants in Edgewater Park, Bronx:0\n",
      "( 41 / 306 ) Spanish Resturants in Castle Hill, Bronx:0\n",
      "( 42 / 306 ) Spanish Resturants in Olinville, Bronx:0\n",
      "( 43 / 306 ) Spanish Resturants in Pelham Gardens, Bronx:2\n",
      "( 44 / 306 ) Spanish Resturants in Concourse, Bronx:2\n",
      "( 45 / 306 ) Spanish Resturants in Unionport, Bronx:1\n",
      "( 46 / 306 ) Spanish Resturants in Edenwald, Bronx:0\n",
      "( 47 / 306 ) Spanish Resturants in Bay Ridge, Brooklyn:0\n",
      "( 48 / 306 ) Spanish Resturants in Bensonhurst, Brooklyn:0\n",
      "( 49 / 306 ) Spanish Resturants in Sunset Park, Brooklyn:2\n",
      "( 50 / 306 ) Spanish Resturants in Greenpoint, Brooklyn:0\n",
      "( 51 / 306 ) Spanish Resturants in Gravesend, Brooklyn:0\n",
      "( 52 / 306 ) Spanish Resturants in Brighton Beach, Brooklyn:0\n",
      "( 53 / 306 ) Spanish Resturants in Sheepshead Bay, Brooklyn:0\n",
      "( 54 / 306 ) Spanish Resturants in Manhattan Terrace, Brooklyn:0\n",
      "( 55 / 306 ) Spanish Resturants in Flatbush, Brooklyn:0\n",
      "( 56 / 306 ) Spanish Resturants in Crown Heights, Brooklyn:0\n",
      "( 57 / 306 ) Spanish Resturants in East Flatbush, Brooklyn:0\n",
      "( 58 / 306 ) Spanish Resturants in Kensington, Brooklyn:0\n",
      "( 59 / 306 ) Spanish Resturants in Windsor Terrace, Brooklyn:0\n",
      "( 60 / 306 ) Spanish Resturants in Prospect Heights, Brooklyn:0\n",
      "( 61 / 306 ) Spanish Resturants in Brownsville, Brooklyn:1\n",
      "( 62 / 306 ) Spanish Resturants in Williamsburg, Brooklyn:0\n",
      "( 63 / 306 ) Spanish Resturants in Bushwick, Brooklyn:0\n",
      "( 64 / 306 ) Spanish Resturants in Bedford Stuyvesant, Brooklyn:0\n",
      "( 65 / 306 ) Spanish Resturants in Brooklyn Heights, Brooklyn:0\n",
      "( 66 / 306 ) Spanish Resturants in Cobble Hill, Brooklyn:1\n",
      "( 67 / 306 ) Spanish Resturants in Carroll Gardens, Brooklyn:0\n",
      "( 68 / 306 ) Spanish Resturants in Red Hook, Brooklyn:0\n",
      "( 69 / 306 ) Spanish Resturants in Gowanus, Brooklyn:0\n",
      "( 70 / 306 ) Spanish Resturants in Fort Greene, Brooklyn:0\n",
      "( 71 / 306 ) Spanish Resturants in Park Slope, Brooklyn:0\n",
      "( 72 / 306 ) Spanish Resturants in Cypress Hills, Brooklyn:0\n",
      "( 73 / 306 ) Spanish Resturants in East New York, Brooklyn:1\n",
      "( 74 / 306 ) Spanish Resturants in Starrett City, Brooklyn:0\n",
      "( 75 / 306 ) Spanish Resturants in Canarsie, Brooklyn:0\n",
      "( 76 / 306 ) Spanish Resturants in Flatlands, Brooklyn:0\n",
      "( 77 / 306 ) Spanish Resturants in Mill Island, Brooklyn:0\n",
      "( 78 / 306 ) Spanish Resturants in Manhattan Beach, Brooklyn:0\n",
      "( 79 / 306 ) Spanish Resturants in Coney Island, Brooklyn:0\n",
      "( 80 / 306 ) Spanish Resturants in Bath Beach, Brooklyn:0\n",
      "( 81 / 306 ) Spanish Resturants in Borough Park, Brooklyn:0\n",
      "( 82 / 306 ) Spanish Resturants in Dyker Heights, Brooklyn:1\n",
      "( 83 / 306 ) Spanish Resturants in Gerritsen Beach, Brooklyn:0\n",
      "( 84 / 306 ) Spanish Resturants in Marine Park, Brooklyn:0\n",
      "( 85 / 306 ) Spanish Resturants in Clinton Hill, Brooklyn:0\n",
      "( 86 / 306 ) Spanish Resturants in Sea Gate, Brooklyn:0\n",
      "( 87 / 306 ) Spanish Resturants in Downtown, Brooklyn:0\n",
      "( 88 / 306 ) Spanish Resturants in Boerum Hill, Brooklyn:0\n",
      "( 89 / 306 ) Spanish Resturants in Prospect Lefferts Gardens, Brooklyn:1\n",
      "( 90 / 306 ) Spanish Resturants in Ocean Hill, Brooklyn:1\n",
      "( 91 / 306 ) Spanish Resturants in City Line, Brooklyn:1\n",
      "( 92 / 306 ) Spanish Resturants in Bergen Beach, Brooklyn:0\n",
      "( 93 / 306 ) Spanish Resturants in Midwood, Brooklyn:0\n",
      "( 94 / 306 ) Spanish Resturants in Prospect Park South, Brooklyn:0\n",
      "( 95 / 306 ) Spanish Resturants in Georgetown, Brooklyn:0\n",
      "( 96 / 306 ) Spanish Resturants in East Williamsburg, Brooklyn:0\n",
      "( 97 / 306 ) Spanish Resturants in North Side, Brooklyn:0\n",
      "( 98 / 306 ) Spanish Resturants in South Side, Brooklyn:0\n",
      "( 99 / 306 ) Spanish Resturants in Ocean Parkway, Brooklyn:0\n",
      "( 100 / 306 ) Spanish Resturants in Fort Hamilton, Brooklyn:1\n",
      "( 101 / 306 ) Spanish Resturants in Chinatown, Manhattan:1\n",
      "( 102 / 306 ) Spanish Resturants in Washington Heights, Manhattan:3\n",
      "( 103 / 306 ) Spanish Resturants in Inwood, Manhattan:3\n",
      "( 104 / 306 ) Spanish Resturants in Hamilton Heights, Manhattan:2\n",
      "( 105 / 306 ) Spanish Resturants in Manhattanville, Manhattan:1\n",
      "( 106 / 306 ) Spanish Resturants in Central Harlem, Manhattan:1\n",
      "( 107 / 306 ) Spanish Resturants in East Harlem, Manhattan:1\n",
      "( 108 / 306 ) Spanish Resturants in Upper East Side, Manhattan:2\n",
      "( 109 / 306 ) Spanish Resturants in Yorkville, Manhattan:0\n",
      "( 110 / 306 ) Spanish Resturants in Lenox Hill, Manhattan:2\n",
      "( 111 / 306 ) Spanish Resturants in Roosevelt Island, Manhattan:0\n",
      "( 112 / 306 ) Spanish Resturants in Upper West Side, Manhattan:0\n",
      "( 113 / 306 ) Spanish Resturants in Lincoln Square, Manhattan:0\n",
      "( 114 / 306 ) Spanish Resturants in Clinton, Manhattan:0\n",
      "( 115 / 306 ) Spanish Resturants in Midtown, Manhattan:0\n",
      "( 116 / 306 ) Spanish Resturants in Murray Hill, Manhattan:0\n",
      "( 117 / 306 ) Spanish Resturants in Chelsea, Manhattan:0\n",
      "( 118 / 306 ) Spanish Resturants in Greenwich Village, Manhattan:0\n",
      "( 119 / 306 ) Spanish Resturants in East Village, Manhattan:1\n",
      "( 120 / 306 ) Spanish Resturants in Lower East Side, Manhattan:0\n",
      "( 121 / 306 ) Spanish Resturants in Tribeca, Manhattan:0\n",
      "( 122 / 306 ) Spanish Resturants in Little Italy, Manhattan:1\n",
      "( 123 / 306 ) Spanish Resturants in Soho, Manhattan:1\n",
      "( 124 / 306 ) Spanish Resturants in West Village, Manhattan:0\n",
      "( 125 / 306 ) Spanish Resturants in Manhattan Valley, Manhattan:0\n",
      "( 126 / 306 ) Spanish Resturants in Morningside Heights, Manhattan:0\n",
      "( 127 / 306 ) Spanish Resturants in Gramercy, Manhattan:1\n",
      "( 128 / 306 ) Spanish Resturants in Battery Park City, Manhattan:0\n",
      "( 129 / 306 ) Spanish Resturants in Financial District, Manhattan:0\n",
      "( 130 / 306 ) Spanish Resturants in Astoria, Queens:0\n",
      "( 131 / 306 ) Spanish Resturants in Woodside, Queens:0\n",
      "( 132 / 306 ) Spanish Resturants in Jackson Heights, Queens:1\n",
      "( 133 / 306 ) Spanish Resturants in Elmhurst, Queens:1\n",
      "( 134 / 306 ) Spanish Resturants in Howard Beach, Queens:0\n",
      "( 135 / 306 ) Spanish Resturants in Corona, Queens:0\n",
      "( 136 / 306 ) Spanish Resturants in Forest Hills, Queens:0\n",
      "( 137 / 306 ) Spanish Resturants in Kew Gardens, Queens:0\n",
      "( 138 / 306 ) Spanish Resturants in Richmond Hill, Queens:1\n",
      "( 139 / 306 ) Spanish Resturants in Flushing, Queens:0\n",
      "( 140 / 306 ) Spanish Resturants in Long Island City, Queens:0\n",
      "( 141 / 306 ) Spanish Resturants in Sunnyside, Queens:0\n",
      "( 142 / 306 ) Spanish Resturants in East Elmhurst, Queens:1\n",
      "( 143 / 306 ) Spanish Resturants in Maspeth, Queens:0\n",
      "( 144 / 306 ) Spanish Resturants in Ridgewood, Queens:0\n",
      "( 145 / 306 ) Spanish Resturants in Glendale, Queens:0\n",
      "( 146 / 306 ) Spanish Resturants in Rego Park, Queens:0\n",
      "( 147 / 306 ) Spanish Resturants in Woodhaven, Queens:1\n",
      "( 148 / 306 ) Spanish Resturants in Ozone Park, Queens:1\n",
      "( 149 / 306 ) Spanish Resturants in South Ozone Park, Queens:0\n",
      "( 150 / 306 ) Spanish Resturants in College Point, Queens:1\n",
      "( 151 / 306 ) Spanish Resturants in Whitestone, Queens:0\n",
      "( 152 / 306 ) Spanish Resturants in Bayside, Queens:1\n",
      "( 153 / 306 ) Spanish Resturants in Auburndale, Queens:0\n",
      "( 154 / 306 ) Spanish Resturants in Little Neck, Queens:0\n",
      "( 155 / 306 ) Spanish Resturants in Douglaston, Queens:0\n",
      "( 156 / 306 ) Spanish Resturants in Glen Oaks, Queens:0\n",
      "( 157 / 306 ) Spanish Resturants in Bellerose, Queens:0\n",
      "( 158 / 306 ) Spanish Resturants in Kew Gardens Hills, Queens:0\n",
      "( 159 / 306 ) Spanish Resturants in Fresh Meadows, Queens:0\n",
      "( 160 / 306 ) Spanish Resturants in Briarwood, Queens:1\n",
      "( 161 / 306 ) Spanish Resturants in Jamaica Center, Queens:0\n",
      "( 162 / 306 ) Spanish Resturants in Oakland Gardens, Queens:0\n",
      "( 163 / 306 ) Spanish Resturants in Queens Village, Queens:0\n",
      "( 164 / 306 ) Spanish Resturants in Hollis, Queens:0\n",
      "( 165 / 306 ) Spanish Resturants in South Jamaica, Queens:0\n",
      "( 166 / 306 ) Spanish Resturants in St. Albans, Queens:0\n",
      "( 167 / 306 ) Spanish Resturants in Rochdale, Queens:0\n",
      "( 168 / 306 ) Spanish Resturants in Springfield Gardens, Queens:0\n",
      "( 169 / 306 ) Spanish Resturants in Cambria Heights, Queens:0\n",
      "( 170 / 306 ) Spanish Resturants in Rosedale, Queens:0\n",
      "( 171 / 306 ) Spanish Resturants in Far Rockaway, Queens:0\n",
      "( 172 / 306 ) Spanish Resturants in Broad Channel, Queens:0\n",
      "( 173 / 306 ) Spanish Resturants in Breezy Point, Queens:0\n",
      "( 174 / 306 ) Spanish Resturants in Steinway, Queens:0\n",
      "( 175 / 306 ) Spanish Resturants in Beechhurst, Queens:0\n",
      "( 176 / 306 ) Spanish Resturants in Bay Terrace, Queens:0\n",
      "( 177 / 306 ) Spanish Resturants in Edgemere, Queens:0\n",
      "( 178 / 306 ) Spanish Resturants in Arverne, Queens:0\n",
      "( 179 / 306 ) Spanish Resturants in Rockaway Beach, Queens:0\n",
      "( 180 / 306 ) Spanish Resturants in Neponsit, Queens:0\n",
      "( 181 / 306 ) Spanish Resturants in Murray Hill, Queens:0\n",
      "( 182 / 306 ) Spanish Resturants in Floral Park, Queens:0\n",
      "( 183 / 306 ) Spanish Resturants in Holliswood, Queens:0\n",
      "( 184 / 306 ) Spanish Resturants in Jamaica Estates, Queens:0\n",
      "( 185 / 306 ) Spanish Resturants in Queensboro Hill, Queens:0\n",
      "( 186 / 306 ) Spanish Resturants in Hillcrest, Queens:0\n",
      "( 187 / 306 ) Spanish Resturants in Ravenswood, Queens:0\n",
      "( 188 / 306 ) Spanish Resturants in Lindenwood, Queens:0\n",
      "( 189 / 306 ) Spanish Resturants in Laurelton, Queens:0\n",
      "( 190 / 306 ) Spanish Resturants in Lefrak City, Queens:0\n",
      "( 191 / 306 ) Spanish Resturants in Belle Harbor, Queens:0\n",
      "( 192 / 306 ) Spanish Resturants in Rockaway Park, Queens:0\n",
      "( 193 / 306 ) Spanish Resturants in Somerville, Queens:0\n",
      "( 194 / 306 ) Spanish Resturants in Brookville, Queens:0\n",
      "( 195 / 306 ) Spanish Resturants in Bellaire, Queens:0\n",
      "( 196 / 306 ) Spanish Resturants in North Corona, Queens:2\n",
      "( 197 / 306 ) Spanish Resturants in Forest Hills Gardens, Queens:0\n",
      "( 198 / 306 ) Spanish Resturants in St. George, Staten Island:0\n",
      "( 199 / 306 ) Spanish Resturants in New Brighton, Staten Island:0\n",
      "( 200 / 306 ) Spanish Resturants in Stapleton, Staten Island:1\n",
      "( 201 / 306 ) Spanish Resturants in Rosebank, Staten Island:0\n",
      "( 202 / 306 ) Spanish Resturants in West Brighton, Staten Island:0\n",
      "( 203 / 306 ) Spanish Resturants in Grymes Hill, Staten Island:1\n",
      "( 204 / 306 ) Spanish Resturants in Todt Hill, Staten Island:0\n",
      "( 205 / 306 ) Spanish Resturants in South Beach, Staten Island:0\n",
      "( 206 / 306 ) Spanish Resturants in Port Richmond, Staten Island:0\n",
      "( 207 / 306 ) Spanish Resturants in Mariner's Harbor, Staten Island:1\n",
      "( 208 / 306 ) Spanish Resturants in Port Ivory, Staten Island:0\n",
      "( 209 / 306 ) Spanish Resturants in Castleton Corners, Staten Island:0\n",
      "( 210 / 306 ) Spanish Resturants in New Springville, Staten Island:0\n",
      "( 211 / 306 ) Spanish Resturants in Travis, Staten Island:1\n",
      "( 212 / 306 ) Spanish Resturants in New Dorp, Staten Island:0\n",
      "( 213 / 306 ) Spanish Resturants in Oakwood, Staten Island:0\n",
      "( 214 / 306 ) Spanish Resturants in Great Kills, Staten Island:1\n",
      "( 215 / 306 ) Spanish Resturants in Eltingville, Staten Island:0\n",
      "( 216 / 306 ) Spanish Resturants in Annadale, Staten Island:0\n",
      "( 217 / 306 ) Spanish Resturants in Woodrow, Staten Island:0\n",
      "( 218 / 306 ) Spanish Resturants in Tottenville, Staten Island:0\n",
      "( 219 / 306 ) Spanish Resturants in Tompkinsville, Staten Island:0\n",
      "( 220 / 306 ) Spanish Resturants in Silver Lake, Staten Island:0\n",
      "( 221 / 306 ) Spanish Resturants in Sunnyside, Staten Island:1\n",
      "( 222 / 306 ) Spanish Resturants in Ditmas Park, Brooklyn:0\n",
      "( 223 / 306 ) Spanish Resturants in Wingate, Brooklyn:0\n",
      "( 224 / 306 ) Spanish Resturants in Rugby, Brooklyn:0\n",
      "( 225 / 306 ) Spanish Resturants in Park Hill, Staten Island:1\n",
      "( 226 / 306 ) Spanish Resturants in Westerleigh, Staten Island:0\n",
      "( 227 / 306 ) Spanish Resturants in Graniteville, Staten Island:1\n",
      "( 228 / 306 ) Spanish Resturants in Arlington, Staten Island:0\n",
      "( 229 / 306 ) Spanish Resturants in Arrochar, Staten Island:0\n",
      "( 230 / 306 ) Spanish Resturants in Grasmere, Staten Island:0\n",
      "( 231 / 306 ) Spanish Resturants in Old Town, Staten Island:0\n",
      "( 232 / 306 ) Spanish Resturants in Dongan Hills, Staten Island:0\n",
      "( 233 / 306 ) Spanish Resturants in Midland Beach, Staten Island:1\n",
      "( 234 / 306 ) Spanish Resturants in Grant City, Staten Island:0\n",
      "( 235 / 306 ) Spanish Resturants in New Dorp Beach, Staten Island:0\n",
      "( 236 / 306 ) Spanish Resturants in Bay Terrace, Staten Island:1\n",
      "( 237 / 306 ) Spanish Resturants in Huguenot, Staten Island:0\n",
      "( 238 / 306 ) Spanish Resturants in Pleasant Plains, Staten Island:0\n",
      "( 239 / 306 ) Spanish Resturants in Butler Manor, Staten Island:0\n",
      "( 240 / 306 ) Spanish Resturants in Charleston, Staten Island:0\n",
      "( 241 / 306 ) Spanish Resturants in Rossville, Staten Island:0\n",
      "( 242 / 306 ) Spanish Resturants in Arden Heights, Staten Island:0\n",
      "( 243 / 306 ) Spanish Resturants in Greenridge, Staten Island:0\n",
      "( 244 / 306 ) Spanish Resturants in Heartland Village, Staten Island:0\n",
      "( 245 / 306 ) Spanish Resturants in Chelsea, Staten Island:1\n",
      "( 246 / 306 ) Spanish Resturants in Bloomfield, Staten Island:0\n",
      "( 247 / 306 ) Spanish Resturants in Bulls Head, Staten Island:0\n",
      "( 248 / 306 ) Spanish Resturants in Carnegie Hill, Manhattan:0\n",
      "( 249 / 306 ) Spanish Resturants in Noho, Manhattan:0\n",
      "( 250 / 306 ) Spanish Resturants in Civic Center, Manhattan:0\n",
      "( 251 / 306 ) Spanish Resturants in Midtown South, Manhattan:0\n",
      "( 252 / 306 ) Spanish Resturants in Richmond Town, Staten Island:0\n",
      "( 253 / 306 ) Spanish Resturants in Shore Acres, Staten Island:0\n",
      "( 254 / 306 ) Spanish Resturants in Clifton, Staten Island:1\n",
      "( 255 / 306 ) Spanish Resturants in Concord, Staten Island:1\n",
      "( 256 / 306 ) Spanish Resturants in Emerson Hill, Staten Island:0\n",
      "( 257 / 306 ) Spanish Resturants in Randall Manor, Staten Island:0\n",
      "( 258 / 306 ) Spanish Resturants in Howland Hook, Staten Island:0\n",
      "( 259 / 306 ) Spanish Resturants in Elm Park, Staten Island:0\n",
      "( 260 / 306 ) Spanish Resturants in Remsen Village, Brooklyn:0\n",
      "( 261 / 306 ) Spanish Resturants in New Lots, Brooklyn:0\n",
      "( 262 / 306 ) Spanish Resturants in Paerdegat Basin, Brooklyn:0\n",
      "( 263 / 306 ) Spanish Resturants in Mill Basin, Brooklyn:0\n",
      "( 264 / 306 ) Spanish Resturants in Jamaica Hills, Queens:0\n",
      "( 265 / 306 ) Spanish Resturants in Utopia, Queens:0\n",
      "( 266 / 306 ) Spanish Resturants in Pomonok, Queens:0\n",
      "( 267 / 306 ) Spanish Resturants in Astoria Heights, Queens:0\n",
      "( 268 / 306 ) Spanish Resturants in Claremont Village, Bronx:0\n",
      "( 269 / 306 ) Spanish Resturants in Concourse Village, Bronx:1\n",
      "( 270 / 306 ) Spanish Resturants in Mount Eden, Bronx:2\n",
      "( 271 / 306 ) Spanish Resturants in Mount Hope, Bronx:1\n",
      "( 272 / 306 ) Spanish Resturants in Sutton Place, Manhattan:0\n",
      "( 273 / 306 ) Spanish Resturants in Hunters Point, Queens:0\n",
      "( 274 / 306 ) Spanish Resturants in Turtle Bay, Manhattan:0\n",
      "( 275 / 306 ) Spanish Resturants in Tudor City, Manhattan:0\n",
      "( 276 / 306 ) Spanish Resturants in Stuyvesant Town, Manhattan:0\n",
      "( 277 / 306 ) Spanish Resturants in Flatiron, Manhattan:1\n",
      "( 278 / 306 ) Spanish Resturants in Sunnyside Gardens, Queens:0\n",
      "( 279 / 306 ) Spanish Resturants in Blissville, Queens:0\n",
      "( 280 / 306 ) Spanish Resturants in Fulton Ferry, Brooklyn:0\n",
      "( 281 / 306 ) Spanish Resturants in Vinegar Hill, Brooklyn:0\n",
      "( 282 / 306 ) Spanish Resturants in Weeksville, Brooklyn:0\n",
      "( 283 / 306 ) Spanish Resturants in Broadway Junction, Brooklyn:0\n",
      "( 284 / 306 ) Spanish Resturants in Dumbo, Brooklyn:0\n",
      "( 285 / 306 ) Spanish Resturants in Manor Heights, Staten Island:0\n",
      "( 286 / 306 ) Spanish Resturants in Willowbrook, Staten Island:0\n",
      "( 287 / 306 ) Spanish Resturants in Sandy Ground, Staten Island:0\n",
      "( 288 / 306 ) Spanish Resturants in Egbertville, Staten Island:0\n",
      "( 289 / 306 ) Spanish Resturants in Roxbury, Queens:0\n",
      "( 290 / 306 ) Spanish Resturants in Homecrest, Brooklyn:0\n",
      "( 291 / 306 ) Spanish Resturants in Middle Village, Queens:0\n",
      "( 292 / 306 ) Spanish Resturants in Prince's Bay, Staten Island:0\n",
      "( 293 / 306 ) Spanish Resturants in Lighthouse Hill, Staten Island:0\n",
      "( 294 / 306 ) Spanish Resturants in Richmond Valley, Staten Island:0\n",
      "( 295 / 306 ) Spanish Resturants in Malba, Queens:0\n",
      "( 296 / 306 ) Spanish Resturants in Highland Park, Brooklyn:0\n",
      "( 297 / 306 ) Spanish Resturants in Madison, Brooklyn:0\n",
      "( 298 / 306 ) Spanish Resturants in Bronxdale, Bronx:2\n",
      "( 299 / 306 ) Spanish Resturants in Allerton, Bronx:0\n",
      "( 300 / 306 ) Spanish Resturants in Kingsbridge Heights, Bronx:1\n",
      "( 301 / 306 ) Spanish Resturants in Erasmus, Brooklyn:0\n",
      "( 302 / 306 ) Spanish Resturants in Hudson Yards, Manhattan:0\n",
      "( 303 / 306 ) Spanish Resturants in Hammels, Queens:0\n",
      "( 304 / 306 ) Spanish Resturants in Bayswater, Queens:0\n",
      "( 305 / 306 ) Spanish Resturants in Queensbridge, Queens:1\n",
      "( 306 / 306 ) Spanish Resturants in Fox Hills, Staten Island:2\n"
     ]
    }
   ],
   "source": [
    "# prepare neighborhood list that contains Spanish restaurants\n",
    "column_names=['Borough', 'Neighborhood', 'ID','Name']\n",
    "spanish_rest_ny=pd.DataFrame(columns=column_names)\n",
    "count=1\n",
    "for row in new_york_data.values.tolist():\n",
    "    Borough, Neighborhood, Latitude, Longitude=row\n",
    "    venues = get_venues(Latitude,Longitude)\n",
    "    spanish_resturants=venues[venues['Category']=='Spanish Restaurant']   \n",
    "    print('(',count,'/',len(new_york_data),')','Spanish Resturants in '+Neighborhood+', '+Borough+':'+str(len(spanish_resturants)))\n",
    "    for resturant_detail in spanish_resturants.values.tolist():\n",
    "        id, name , category=resturant_detail\n",
    "        spanish_rest_ny = spanish_rest_ny.append({'Borough': Borough,\n",
    "                                                'Neighborhood': Neighborhood, \n",
    "                                                'ID': id,\n",
    "                                                'Name' : name\n",
    "                                               }, ignore_index=True)\n",
    "    count+=1"
   ]
  },
  {
   "cell_type": "code",
   "execution_count": 11,
   "metadata": {},
   "outputs": [
    {
     "data": {
      "text/html": [
       "<div>\n",
       "<style scoped>\n",
       "    .dataframe tbody tr th:only-of-type {\n",
       "        vertical-align: middle;\n",
       "    }\n",
       "\n",
       "    .dataframe tbody tr th {\n",
       "        vertical-align: top;\n",
       "    }\n",
       "\n",
       "    .dataframe thead th {\n",
       "        text-align: right;\n",
       "    }\n",
       "</style>\n",
       "<table border=\"1\" class=\"dataframe\">\n",
       "  <thead>\n",
       "    <tr style=\"text-align: right;\">\n",
       "      <th></th>\n",
       "      <th>Borough</th>\n",
       "      <th>Neighborhood</th>\n",
       "      <th>ID</th>\n",
       "      <th>Name</th>\n",
       "    </tr>\n",
       "  </thead>\n",
       "  <tbody>\n",
       "    <tr>\n",
       "      <th>0</th>\n",
       "      <td>Bronx</td>\n",
       "      <td>Wakefield</td>\n",
       "      <td>4bec3ac661aca5935cfe8500</td>\n",
       "      <td>El Mangu Tipico Restaurant</td>\n",
       "    </tr>\n",
       "    <tr>\n",
       "      <th>1</th>\n",
       "      <td>Bronx</td>\n",
       "      <td>Co-op City</td>\n",
       "      <td>58a9ca678ae363643f8827a2</td>\n",
       "      <td>Sangria Cafe</td>\n",
       "    </tr>\n",
       "    <tr>\n",
       "      <th>2</th>\n",
       "      <td>Bronx</td>\n",
       "      <td>Kingsbridge</td>\n",
       "      <td>4ca785a597c8a1cd7e577ba5</td>\n",
       "      <td>El Economico Restaurant</td>\n",
       "    </tr>\n",
       "    <tr>\n",
       "      <th>3</th>\n",
       "      <td>Bronx</td>\n",
       "      <td>Kingsbridge</td>\n",
       "      <td>50ea5611e4b044bdeead3ade</td>\n",
       "      <td>Q'Kachapa</td>\n",
       "    </tr>\n",
       "    <tr>\n",
       "      <th>4</th>\n",
       "      <td>Manhattan</td>\n",
       "      <td>Marble Hill</td>\n",
       "      <td>4ca785a597c8a1cd7e577ba5</td>\n",
       "      <td>El Economico Restaurant</td>\n",
       "    </tr>\n",
       "  </tbody>\n",
       "</table>\n",
       "</div>"
      ],
      "text/plain": [
       "     Borough Neighborhood                        ID  \\\n",
       "0      Bronx    Wakefield  4bec3ac661aca5935cfe8500   \n",
       "1      Bronx   Co-op City  58a9ca678ae363643f8827a2   \n",
       "2      Bronx  Kingsbridge  4ca785a597c8a1cd7e577ba5   \n",
       "3      Bronx  Kingsbridge  50ea5611e4b044bdeead3ade   \n",
       "4  Manhattan  Marble Hill  4ca785a597c8a1cd7e577ba5   \n",
       "\n",
       "                         Name  \n",
       "0  El Mangu Tipico Restaurant  \n",
       "1                Sangria Cafe  \n",
       "2     El Economico Restaurant  \n",
       "3                   Q'Kachapa  \n",
       "4     El Economico Restaurant  "
      ]
     },
     "execution_count": 11,
     "metadata": {},
     "output_type": "execute_result"
    }
   ],
   "source": [
    "spanish_rest_ny.head()"
   ]
  },
  {
   "cell_type": "code",
   "execution_count": 12,
   "metadata": {},
   "outputs": [
    {
     "data": {
      "text/plain": [
       "(112, 4)"
      ]
     },
     "execution_count": 12,
     "metadata": {},
     "output_type": "execute_result"
    }
   ],
   "source": [
    "spanish_rest_ny.shape"
   ]
  },
  {
   "cell_type": "code",
   "execution_count": 13,
   "metadata": {},
   "outputs": [
    {
     "data": {
      "image/png": "[encoded data removed]",
      "text/plain": [
       "<Figure size 900x500 with 1 Axes>"
      ]
     },
     "metadata": {},
     "output_type": "display_data"
    }
   ],
   "source": [
    "# Let's check how these 112 restaurants distribute across different boroughs:\n",
    "\n",
    "from matplotlib import pyplot as plt\n",
    "plt.style.use('ggplot')\n",
    "\n",
    "plt.figure(figsize=(9,5), dpi = 100)\n",
    "# title\n",
    "plt.title('Number of Spanish Restaurants in NYC by Borough')\n",
    "#On x-axis\n",
    "plt.xlabel('Borough', fontsize = 16)\n",
    "#On y-axis\n",
    "plt.ylabel('Number of Spanish Restaurants', fontsize=16)\n",
    "#giving a bar plot\n",
    "spanish_rest_ny.groupby('Borough')['ID'].count().plot(kind='bar')\n",
    "#legend\n",
    "plt.legend()\n",
    "#displays the plot\n",
    "plt.show()"
   ]
  },
  {
   "cell_type": "markdown",
   "metadata": {},
   "source": [
    "We can clearly see that the highest number of spanish restaurants are in Bronx, although Queens has the highest number of neighborhoods. It's interesting to see what is the distribution of restaurants across different Neighborhoods in New York."
   ]
  },
  {
   "cell_type": "code",
   "execution_count": 14,
   "metadata": {
    "scrolled": true
   },
   "outputs": [
    {
     "data": {
      "image/png": "[encoded data removed]",
      "text/plain": [
       "<Figure size 900x500 with 1 Axes>"
      ]
     },
     "metadata": {},
     "output_type": "display_data"
    }
   ],
   "source": [
    "from matplotlib import pyplot as plt\n",
    "plt.style.use('ggplot')\n",
    "\n",
    "plt.figure(figsize=(9,5), dpi = 100)\n",
    "# title\n",
    "plt.title('Number of Spanish Restaurants in NYC by Neighbourhood')\n",
    "#On x-axis\n",
    "plt.xlabel('Neighborhood', fontsize = 15)\n",
    "#On y-axis\n",
    "plt.ylabel('No.of Spanish Restaurants', fontsize=15)\n",
    "#giving a bar plot\n",
    "spanish_rest_ny.groupby('Neighborhood')['ID'].count().nlargest(5).plot(kind='bar')\n",
    "#legend\n",
    "plt.legend()\n",
    "#displays the plot\n",
    "plt.show()"
   ]
  },
  {
   "cell_type": "markdown",
   "metadata": {},
   "source": [
    "We can see that Fordham alone has 5 spanish restaurants, which makes is the highest number of spanish restaurants of all neighborhoods in NYC. Fordham is in Bronx Borough which is consistent with the highest density of spanish restaurants across different Boroughs."
   ]
  },
  {
   "cell_type": "markdown",
   "metadata": {},
   "source": [
    "### Now that we have a picture of NYC boroughs, neighborhoods and spanish restaurants in the city we can look into venue details from Foursquare"
   ]
  },
  {
   "cell_type": "code",
   "execution_count": 15,
   "metadata": {},
   "outputs": [
    {
     "name": "stdout",
     "output_type": "stream",
     "text": [
      "Empty DataFrame\n",
      "Columns: [ID, Name, Likes, Rating, Tips]\n",
      "Index: []\n",
      "No data available for id= 4bec3ac661aca5935cfe8500\n",
      "( 1 / 112 ) processed\n",
      "                         ID          Name  Likes  Rating  Tips\n",
      "0  58a9ca678ae363643f8827a2  Sangria Cafe      7     7.7     3\n",
      "( 2 / 112 ) processed\n",
      "                         ID                     Name  Likes  Rating  Tips\n",
      "0  4ca785a597c8a1cd7e577ba5  El Economico Restaurant     18     7.6     8\n",
      "( 3 / 112 ) processed\n",
      "                         ID       Name  Likes  Rating  Tips\n",
      "0  50ea5611e4b044bdeead3ade  Q'Kachapa     16     7.3     6\n",
      "( 4 / 112 ) processed\n",
      "                         ID                     Name  Likes  Rating  Tips\n",
      "0  4ca785a597c8a1cd7e577ba5  El Economico Restaurant     18     7.6     8\n",
      "( 5 / 112 ) processed\n",
      "                         ID       Name  Likes  Rating  Tips\n",
      "0  50ea5611e4b044bdeead3ade  Q'Kachapa     16     7.3     6\n",
      "( 6 / 112 ) processed\n",
      "Empty DataFrame\n",
      "Columns: [ID, Name, Likes, Rating, Tips]\n",
      "Index: []\n",
      "No data available for id= 4e3448cd6284ea7e10f38a0f\n",
      "( 7 / 112 ) processed\n",
      "                         ID              Name  Likes  Rating  Tips\n",
      "0  4cdadbde958f236a337da903  El Presidente II      9     6.5     6\n",
      "( 8 / 112 ) processed\n",
      "                         ID               Name  Likes  Rating  Tips\n",
      "0  4b7435aef964a52042cd2de3  Caribe Restaurant     13     5.7     8\n",
      "( 9 / 112 ) processed\n",
      "                         ID             Name  Likes  Rating  Tips\n",
      "0  4be2ecf6b02ec9b6a5064ec0  Caridad & Louie     66     8.0    27\n",
      "( 10 / 112 ) processed\n",
      "                         ID          Name  Likes  Rating  Tips\n",
      "0  58a9ca678ae363643f8827a2  Sangria Cafe      7     7.7     3\n",
      "( 11 / 112 ) processed\n",
      "Empty DataFrame\n",
      "Columns: [ID, Name, Likes, Rating, Tips]\n",
      "Index: []\n",
      "No data available for id= 531f7ea1498e56210466e0bd\n",
      "( 12 / 112 ) processed\n",
      "                         ID               Name  Likes  Rating  Tips\n",
      "0  4e4d0392bd413c4cc66dfde5  Shalon Restaurant      3     7.3     3\n",
      "( 13 / 112 ) processed\n",
      "                         ID               Name  Likes  Rating  Tips\n",
      "0  519aae54498ec1fda8c8ae81  La Rola Resturant      3     5.9     1\n",
      "( 14 / 112 ) processed\n",
      "                         ID      Name  Likes  Rating  Tips\n",
      "0  4c9fcdfc8afca09381840d16  Liberato     11     7.0     8\n",
      "( 15 / 112 ) processed\n",
      "                         ID  \\\n",
      "0  4c6c82f56af58cfac5248717   \n",
      "\n",
      "                                                Name  Likes  Rating  Tips  \n",
      "0  Elsa La Reina Del Chicharrón (Elsa The Queen O...      8     7.0     6  \n",
      "( 16 / 112 ) processed\n",
      "                         ID            Name  Likes  Rating  Tips\n",
      "0  4cd21cee1ac7a1cd743b2392  El Nuevo Valle      5     6.4     4\n",
      "( 17 / 112 ) processed\n",
      "                         ID             Name  Likes  Rating  Tips\n",
      "0  4e39863dae60f589a5dc0dcb  Yoly Restaurant      5     7.4     3\n",
      "( 18 / 112 ) processed\n",
      "                         ID            Name  Likes  Rating  Tips\n",
      "0  4cd21cee1ac7a1cd743b2392  El Nuevo Valle      5     6.4     4\n",
      "( 19 / 112 ) processed\n",
      "                         ID                  Name  Likes  Rating  Tips\n",
      "0  4cf9d4d12d80a14383df40d8  Kasike Mofongo House     13     7.4     6\n",
      "( 20 / 112 ) processed\n",
      "                         ID                        Name  Likes  Rating  Tips\n",
      "0  4bb7b71998c7ef3bf03e3002  Three  Spanish  Restaurant      7     6.6     7\n",
      "( 21 / 112 ) processed\n",
      "                         ID  \\\n",
      "0  4c6c82f56af58cfac5248717   \n",
      "\n",
      "                                                Name  Likes  Rating  Tips  \n",
      "0  Elsa La Reina Del Chicharrón (Elsa The Queen O...      8     7.0     6  \n",
      "( 22 / 112 ) processed\n",
      "                         ID               Name  Likes  Rating  Tips\n",
      "0  4e4d0392bd413c4cc66dfde5  Shalon Restaurant      3     7.3     3\n",
      "( 23 / 112 ) processed\n",
      "                         ID      Name  Likes  Rating  Tips\n",
      "0  4c9fcdfc8afca09381840d16  Liberato     11     7.0     8\n",
      "( 24 / 112 ) processed\n",
      "                         ID                 Name  Likes  Rating  Tips\n",
      "0  4ba52d35f964a52002e838e3  El Valle Restaurant     12     7.6     9\n",
      "( 25 / 112 ) processed\n",
      "Empty DataFrame\n",
      "Columns: [ID, Name, Likes, Rating, Tips]\n",
      "Index: []\n",
      "No data available for id= 54cbc8e7498e0db58a4110cc\n",
      "( 26 / 112 ) processed\n",
      "                         ID                 Name  Likes  Rating  Tips\n",
      "0  4ba52d35f964a52002e838e3  El Valle Restaurant     12     7.6     9\n",
      "( 27 / 112 ) processed\n",
      "Empty DataFrame\n",
      "Columns: [ID, Name, Likes, Rating, Tips]\n",
      "Index: []\n",
      "No data available for id= 54cbc8e7498e0db58a4110cc\n",
      "( 28 / 112 ) processed\n",
      "                         ID      Name  Likes  Rating  Tips\n",
      "0  4c096282009a0f479bade7bf  El Valle      7     5.7     6\n",
      "( 29 / 112 ) processed\n",
      "                         ID                Name  Likes  Rating  Tips\n",
      "0  4c9ca8fc54c8a1cd9e057c4b  Randall Restaurant      5     6.6     2\n",
      "( 30 / 112 ) processed\n",
      "                         ID      Name  Likes  Rating  Tips\n",
      "0  4c096282009a0f479bade7bf  El Valle      7     5.7     6\n",
      "( 31 / 112 ) processed\n",
      "                         ID            Name  Likes  Rating  Tips\n",
      "0  4c8be9fa509e3704e0822e55  Brisas Express      9     8.1     6\n",
      "( 32 / 112 ) processed\n",
      "                         ID                       Name  Likes  Rating  Tips\n",
      "0  4eed3d759a52993fb7108490  Isla Verde Cafe & Express     48     8.2    14\n",
      "( 33 / 112 ) processed\n",
      "                         ID                Name  Likes  Rating  Tips\n",
      "0  4c9d47ea46978cfa6244967f  Maestro's Caterers     48     6.7    18\n",
      "( 34 / 112 ) processed\n",
      "                         ID                 Name  Likes  Rating  Tips\n",
      "0  4b68b130f964a52071872be3  Caridad  Restaurant      8     5.6     8\n",
      "( 35 / 112 ) processed\n",
      "                         ID           Name  Likes  Rating  Tips\n",
      "0  4b8db810f964a5206a0a33e3  Cafe Colonial     42     7.3    33\n",
      "( 36 / 112 ) processed\n",
      "                         ID                Name  Likes  Rating  Tips\n",
      "0  4c9d47ea46978cfa6244967f  Maestro's Caterers     48     6.7    18\n",
      "( 37 / 112 ) processed\n",
      "Empty DataFrame\n",
      "Columns: [ID, Name, Likes, Rating, Tips]\n",
      "Index: []\n",
      "No data available for id= 4eb28c8cb80348350a17ede6\n",
      "( 38 / 112 ) processed\n",
      "                         ID                Name  Likes  Rating  Tips\n",
      "0  4c9d47ea46978cfa6244967f  Maestro's Caterers     48     6.7    18\n",
      "( 39 / 112 ) processed\n",
      "                         ID                 Name  Likes  Rating  Tips\n",
      "0  4b68b130f964a52071872be3  Caridad  Restaurant      8     5.6     8\n",
      "( 40 / 112 ) processed\n",
      "                         ID                  Name  Likes  Rating  Tips\n",
      "0  4cf9d4d12d80a14383df40d8  Kasike Mofongo House     13     7.4     6\n",
      "( 41 / 112 ) processed\n",
      "                         ID                        Name  Likes  Rating  Tips\n",
      "0  4bb7b71998c7ef3bf03e3002  Three  Spanish  Restaurant      7     6.6     7\n",
      "( 42 / 112 ) processed\n",
      "                         ID             Name  Likes  Rating  Tips\n",
      "0  4be2ecf6b02ec9b6a5064ec0  Caridad & Louie     66     8.0    27\n",
      "( 43 / 112 ) processed\n",
      "Empty DataFrame\n",
      "Columns: [ID, Name, Likes, Rating, Tips]\n",
      "Index: []\n",
      "No data available for id= 4ee799918b81381c2a21569e\n",
      "( 44 / 112 ) processed\n",
      "                         ID                      Name  Likes  Rating  Tips\n",
      "0  531285f5498e27c059004eee  El Gran Valle Restaurant      7     7.6     3\n",
      "( 45 / 112 ) processed\n",
      "Empty DataFrame\n",
      "Columns: [ID, Name, Likes, Rating, Tips]\n",
      "Index: []\n",
      "No data available for id= 4f9318bce4b020d1a307e453\n",
      "( 46 / 112 ) processed\n",
      "Empty DataFrame\n",
      "Columns: [ID, Name, Likes, Rating, Tips]\n",
      "Index: []\n",
      "No data available for id= 4beaf1366295c9b61a118708\n",
      "( 47 / 112 ) processed\n",
      "                         ID                    Name  Likes  Rating  Tips\n",
      "0  4e98bc8a722e25a7f58252fb  Mi Castillo Restaurant      5     7.4     2\n",
      "( 48 / 112 ) processed\n",
      "                         ID           Name  Likes  Rating  Tips\n",
      "0  4a63ae85f964a52093c51fe3  El Yayo Nuevo     10     7.1     8\n",
      "( 49 / 112 ) processed\n",
      "                         ID                  Name  Likes  Rating  Tips\n",
      "0  506ef5e6e4b06f9dbb264036  Tropical Coffee Shop      6     7.1     1\n",
      "( 50 / 112 ) processed\n",
      "No data available for id= 4f6e5ea9e4b086107787908b\n",
      "( 51 / 112 ) processed\n",
      "No data available for id= 4da6df516a230db30ecb5955\n",
      "( 52 / 112 ) processed\n",
      "No data available for id= 53f686a4498e7b09596566b4\n",
      "( 53 / 112 ) processed\n",
      "No data available for id= 57811b1f498e9779eb16f09e\n",
      "( 54 / 112 ) processed\n",
      "No data available for id= 4d6406babd253704eba5d4c5\n",
      "( 55 / 112 ) processed\n",
      "No data available for id= 58c55f8f13c2236f0d38a4b4\n",
      "( 56 / 112 ) processed\n",
      "No data available for id= 53f686a4498e7b09596566b4\n",
      "( 57 / 112 ) processed\n",
      "No data available for id= 59480a78f62e090a3b4d6eb7\n",
      "( 58 / 112 ) processed\n",
      "No data available for id= 4bb8cdb053649c74465847fb\n",
      "( 59 / 112 ) processed\n",
      "No data available for id= 4acce300f964a520e2c920e3\n",
      "( 60 / 112 ) processed\n",
      "No data available for id= 4c5d84496ebe2d7f97f9d22e\n",
      "( 61 / 112 ) processed\n",
      "No data available for id= 4c043cd3f423a593955dd116\n",
      "( 62 / 112 ) processed\n",
      "No data available for id= 4bcdd0a6fb84c9b61c98223e\n",
      "( 63 / 112 ) processed\n",
      "No data available for id= 4ba2b7f2f964a5202f1338e3\n",
      "( 64 / 112 ) processed\n",
      "No data available for id= 4b55274bf964a52006dd27e3\n",
      "( 65 / 112 ) processed\n",
      "No data available for id= 4a2edc71f964a5206f981fe3\n",
      "( 66 / 112 ) processed\n",
      "No data available for id= 4b55274bf964a52006dd27e3\n",
      "( 67 / 112 ) processed\n",
      "No data available for id= 4bdb64a82a3a0f471cd8aeb6\n",
      "( 68 / 112 ) processed\n",
      "No data available for id= 4b9466d7f964a520ee7734e3\n",
      "( 69 / 112 ) processed\n",
      "No data available for id= 4bca3ca70687ef3b5ca3dbcc\n",
      "( 70 / 112 ) processed\n",
      "No data available for id= 542a0b46498e786c48692618\n",
      "( 71 / 112 ) processed\n",
      "No data available for id= 542a0b46498e786c48692618\n",
      "( 72 / 112 ) processed\n",
      "No data available for id= 4bca3ca70687ef3b5ca3dbcc\n",
      "( 73 / 112 ) processed\n",
      "No data available for id= 533721a0498e78372d14112c\n",
      "( 74 / 112 ) processed\n",
      "No data available for id= 45697387f964a520e53d1fe3\n",
      "( 75 / 112 ) processed\n",
      "No data available for id= 45697387f964a520e53d1fe3\n",
      "( 76 / 112 ) processed\n",
      "No data available for id= 457ebe82f964a5203e3f1fe3\n",
      "( 77 / 112 ) processed\n",
      "No data available for id= 4d1a631e1683a1437bf37351\n",
      "( 78 / 112 ) processed\n",
      "No data available for id= 4d1a631e1683a1437bf37351\n",
      "( 79 / 112 ) processed\n",
      "No data available for id= 4ec1a837722e0f78de974903\n",
      "( 80 / 112 ) processed\n",
      "No data available for id= 4da1ee6a540ea1cdf73672de\n",
      "( 81 / 112 ) processed\n",
      "No data available for id= 58c55f8f13c2236f0d38a4b4\n",
      "( 82 / 112 ) processed\n",
      "No data available for id= 4c39e32e18e72d7f32dc1af5\n",
      "( 83 / 112 ) processed\n",
      "No data available for id= 513dde80e4b07fb43b044f08\n",
      "( 84 / 112 ) processed\n",
      "No data available for id= 5669ffe7498edbe082db916f\n",
      "( 85 / 112 ) processed\n",
      "No data available for id= 4bc4abb374a9a5930928d6f6\n",
      "( 86 / 112 ) processed\n",
      "No data available for id= 4daa0d7e0cb6a89c6265a89f\n",
      "( 87 / 112 ) processed\n",
      "No data available for id= 4da1ee6a540ea1cdf73672de\n",
      "( 88 / 112 ) processed\n",
      "No data available for id= 4cfc0726c6cca35dcc808f32\n",
      "( 89 / 112 ) processed\n",
      "No data available for id= 4cfc0726c6cca35dcc808f32\n",
      "( 90 / 112 ) processed\n",
      "No data available for id= 4b22f935f964a5205a5124e3\n",
      "( 91 / 112 ) processed\n",
      "No data available for id= 4e4cc369bd413c4cc66bf90c\n",
      "( 92 / 112 ) processed\n",
      "No data available for id= 4c9bea5954c8a1cd97b3754b\n",
      "( 93 / 112 ) processed\n",
      "No data available for id= 4b65f266f964a520530a2be3\n",
      "( 94 / 112 ) processed\n",
      "No data available for id= 4b65f266f964a520530a2be3\n",
      "( 95 / 112 ) processed\n",
      "No data available for id= 4b22f935f964a5205a5124e3\n",
      "( 96 / 112 ) processed\n",
      "No data available for id= 55e79326498ede65f9f0da55\n",
      "( 97 / 112 ) processed\n",
      "No data available for id= 4c9bea5954c8a1cd97b3754b\n",
      "( 98 / 112 ) processed\n",
      "No data available for id= 4e4cc369bd413c4cc66bf90c\n",
      "( 99 / 112 ) processed\n",
      "No data available for id= 4cfc0726c6cca35dcc808f32\n",
      "( 100 / 112 ) processed\n",
      "No data available for id= 4b65f266f964a520530a2be3\n",
      "( 101 / 112 ) processed\n",
      "No data available for id= 531285f5498e27c059004eee\n",
      "( 102 / 112 ) processed\n",
      "No data available for id= 4e39863dae60f589a5dc0dcb\n",
      "( 103 / 112 ) processed\n",
      "No data available for id= 4cd21cee1ac7a1cd743b2392\n",
      "( 104 / 112 ) processed\n",
      "No data available for id= 4cd21cee1ac7a1cd743b2392\n",
      "( 105 / 112 ) processed\n",
      "No data available for id= 457ebe82f964a5203e3f1fe3\n",
      "( 106 / 112 ) processed\n",
      "No data available for id= 4b8db810f964a5206a0a33e3\n",
      "( 107 / 112 ) processed\n",
      "No data available for id= 4c9d47ea46978cfa6244967f\n",
      "( 108 / 112 ) processed\n",
      "No data available for id= 4e4d0392bd413c4cc66dfde5\n",
      "( 109 / 112 ) processed\n",
      "No data available for id= 4cbdec58035d236addb1ed4e\n",
      "( 110 / 112 ) processed\n",
      "No data available for id= 4b65f266f964a520530a2be3\n",
      "( 111 / 112 ) processed\n",
      "No data available for id= 4cfc0726c6cca35dcc808f32\n",
      "( 112 / 112 ) processed\n"
     ]
    }
   ],
   "source": [
    "# prepare neighborhood list that contains spanish resturants\n",
    "column_names=['Borough', 'Neighborhood', 'ID','Name','Likes','Rating','Tips']\n",
    "spanish_rest_stats_ny=pd.DataFrame(columns=column_names)\n",
    "count=1\n",
    "\n",
    "\n",
    "for row in spanish_rest_ny.values.tolist():\n",
    "    Borough,Neighborhood,ID,Name=row\n",
    "\n",
    "    # prepare neighborhood list that contains spanish resturants\n",
    "column_names=['Borough', 'Neighborhood', 'ID','Name','Likes','Rating','Tips']\n",
    "spanish_rest_stats_ny=pd.DataFrame(columns=column_names)\n",
    "count=1\n",
    "\n",
    "\n",
    "for row in spanish_rest_ny.values.tolist():\n",
    "    Borough,Neighborhood,ID,Name=row\n",
    "    try:\n",
    "        venue_details=get_venue_details(ID)\n",
    "        print(venue_details)\n",
    "        id,name,likes,rating,tips=venue_details.values.tolist()[0]\n",
    "    except (IndexError, KeyError) as e:\n",
    "        print('No data available for id=',ID)\n",
    "        # we will assign 0 value for these resturants as they may have been \n",
    "        #recently opened or details does not exist in FourSquare Database\n",
    "        id,name,likes,rating,tips=[0]*5\n",
    "    print('(',count,'/',len(spanish_rest_ny),')','processed')\n",
    "    spanish_rest_stats_ny = spanish_rest_stats_ny.append({'Borough': Borough,\n",
    "                                                'Neighborhood': Neighborhood, \n",
    "                                                'ID': id,\n",
    "                                                'Name' : name,\n",
    "                                                'Likes' : likes,\n",
    "                                                'Rating' : rating,\n",
    "                                                'Tips' : tips\n",
    "                                               }, ignore_index=True)\n",
    "    count+=1"
   ]
  },
  {
   "cell_type": "markdown",
   "metadata": {},
   "source": [
    "### Let's have a quick look at the table"
   ]
  },
  {
   "cell_type": "code",
   "execution_count": 16,
   "metadata": {},
   "outputs": [
    {
     "data": {
      "text/html": [
       "<div>\n",
       "<style scoped>\n",
       "    .dataframe tbody tr th:only-of-type {\n",
       "        vertical-align: middle;\n",
       "    }\n",
       "\n",
       "    .dataframe tbody tr th {\n",
       "        vertical-align: top;\n",
       "    }\n",
       "\n",
       "    .dataframe thead th {\n",
       "        text-align: right;\n",
       "    }\n",
       "</style>\n",
       "<table border=\"1\" class=\"dataframe\">\n",
       "  <thead>\n",
       "    <tr style=\"text-align: right;\">\n",
       "      <th></th>\n",
       "      <th>Borough</th>\n",
       "      <th>Neighborhood</th>\n",
       "      <th>ID</th>\n",
       "      <th>Name</th>\n",
       "      <th>Likes</th>\n",
       "      <th>Rating</th>\n",
       "      <th>Tips</th>\n",
       "    </tr>\n",
       "  </thead>\n",
       "  <tbody>\n",
       "    <tr>\n",
       "      <th>0</th>\n",
       "      <td>Bronx</td>\n",
       "      <td>Wakefield</td>\n",
       "      <td>0</td>\n",
       "      <td>0</td>\n",
       "      <td>0</td>\n",
       "      <td>0</td>\n",
       "      <td>0</td>\n",
       "    </tr>\n",
       "    <tr>\n",
       "      <th>1</th>\n",
       "      <td>Bronx</td>\n",
       "      <td>Co-op City</td>\n",
       "      <td>58a9ca678ae363643f8827a2</td>\n",
       "      <td>Sangria Cafe</td>\n",
       "      <td>7</td>\n",
       "      <td>7.7</td>\n",
       "      <td>3</td>\n",
       "    </tr>\n",
       "    <tr>\n",
       "      <th>2</th>\n",
       "      <td>Bronx</td>\n",
       "      <td>Kingsbridge</td>\n",
       "      <td>4ca785a597c8a1cd7e577ba5</td>\n",
       "      <td>El Economico Restaurant</td>\n",
       "      <td>18</td>\n",
       "      <td>7.6</td>\n",
       "      <td>8</td>\n",
       "    </tr>\n",
       "    <tr>\n",
       "      <th>3</th>\n",
       "      <td>Bronx</td>\n",
       "      <td>Kingsbridge</td>\n",
       "      <td>50ea5611e4b044bdeead3ade</td>\n",
       "      <td>Q'Kachapa</td>\n",
       "      <td>16</td>\n",
       "      <td>7.3</td>\n",
       "      <td>6</td>\n",
       "    </tr>\n",
       "    <tr>\n",
       "      <th>4</th>\n",
       "      <td>Manhattan</td>\n",
       "      <td>Marble Hill</td>\n",
       "      <td>4ca785a597c8a1cd7e577ba5</td>\n",
       "      <td>El Economico Restaurant</td>\n",
       "      <td>18</td>\n",
       "      <td>7.6</td>\n",
       "      <td>8</td>\n",
       "    </tr>\n",
       "  </tbody>\n",
       "</table>\n",
       "</div>"
      ],
      "text/plain": [
       "     Borough Neighborhood                        ID                     Name  \\\n",
       "0      Bronx    Wakefield                         0                        0   \n",
       "1      Bronx   Co-op City  58a9ca678ae363643f8827a2             Sangria Cafe   \n",
       "2      Bronx  Kingsbridge  4ca785a597c8a1cd7e577ba5  El Economico Restaurant   \n",
       "3      Bronx  Kingsbridge  50ea5611e4b044bdeead3ade                Q'Kachapa   \n",
       "4  Manhattan  Marble Hill  4ca785a597c8a1cd7e577ba5  El Economico Restaurant   \n",
       "\n",
       "  Likes Rating Tips  \n",
       "0     0      0    0  \n",
       "1     7    7.7    3  \n",
       "2    18    7.6    8  \n",
       "3    16    7.3    6  \n",
       "4    18    7.6    8  "
      ]
     },
     "execution_count": 16,
     "metadata": {},
     "output_type": "execute_result"
    }
   ],
   "source": [
    "spanish_rest_stats_ny.head()"
   ]
  },
  {
   "cell_type": "markdown",
   "metadata": {},
   "source": [
    "It seems that there is not data available to get the likes, ratings and tips."
   ]
  },
  {
   "cell_type": "code",
   "execution_count": 17,
   "metadata": {},
   "outputs": [
    {
     "data": {
      "text/plain": [
       "(112, 7)"
      ]
     },
     "execution_count": 17,
     "metadata": {},
     "output_type": "execute_result"
    }
   ],
   "source": [
    "spanish_rest_stats_ny.shape\n"
   ]
  },
  {
   "cell_type": "code",
   "execution_count": 18,
   "metadata": {},
   "outputs": [
    {
     "data": {
      "text/plain": [
       "(112, 4)"
      ]
     },
     "execution_count": 18,
     "metadata": {},
     "output_type": "execute_result"
    }
   ],
   "source": [
    "spanish_rest_ny.shape"
   ]
  },
  {
   "cell_type": "markdown",
   "metadata": {},
   "source": [
    "### I'll save the data on the restaurant stats to the csv file"
   ]
  },
  {
   "cell_type": "code",
   "execution_count": 19,
   "metadata": {},
   "outputs": [],
   "source": [
    "spanish_rest_stats_ny.to_csv('spanish_rest_stats_ny.csv', index=False)"
   ]
  },
  {
   "cell_type": "code",
   "execution_count": 20,
   "metadata": {},
   "outputs": [],
   "source": [
    "spanish_rest_stats_ny_csv=pd.read_csv('spanish_rest_stats_ny.csv')\n"
   ]
  },
  {
   "cell_type": "code",
   "execution_count": 21,
   "metadata": {},
   "outputs": [
    {
     "data": {
      "text/plain": [
       "(112, 7)"
      ]
     },
     "execution_count": 21,
     "metadata": {},
     "output_type": "execute_result"
    }
   ],
   "source": [
    "spanish_rest_stats_ny_csv.shape\n"
   ]
  },
  {
   "cell_type": "code",
   "execution_count": 22,
   "metadata": {},
   "outputs": [
    {
     "data": {
      "text/html": [
       "<div>\n",
       "<style scoped>\n",
       "    .dataframe tbody tr th:only-of-type {\n",
       "        vertical-align: middle;\n",
       "    }\n",
       "\n",
       "    .dataframe tbody tr th {\n",
       "        vertical-align: top;\n",
       "    }\n",
       "\n",
       "    .dataframe thead th {\n",
       "        text-align: right;\n",
       "    }\n",
       "</style>\n",
       "<table border=\"1\" class=\"dataframe\">\n",
       "  <thead>\n",
       "    <tr style=\"text-align: right;\">\n",
       "      <th></th>\n",
       "      <th>Borough</th>\n",
       "      <th>Neighborhood</th>\n",
       "      <th>ID</th>\n",
       "      <th>Name</th>\n",
       "      <th>Likes</th>\n",
       "      <th>Rating</th>\n",
       "      <th>Tips</th>\n",
       "    </tr>\n",
       "  </thead>\n",
       "  <tbody>\n",
       "    <tr>\n",
       "      <th>0</th>\n",
       "      <td>Bronx</td>\n",
       "      <td>Wakefield</td>\n",
       "      <td>0</td>\n",
       "      <td>0</td>\n",
       "      <td>0</td>\n",
       "      <td>0.0</td>\n",
       "      <td>0</td>\n",
       "    </tr>\n",
       "    <tr>\n",
       "      <th>1</th>\n",
       "      <td>Bronx</td>\n",
       "      <td>Co-op City</td>\n",
       "      <td>58a9ca678ae363643f8827a2</td>\n",
       "      <td>Sangria Cafe</td>\n",
       "      <td>7</td>\n",
       "      <td>7.7</td>\n",
       "      <td>3</td>\n",
       "    </tr>\n",
       "    <tr>\n",
       "      <th>2</th>\n",
       "      <td>Bronx</td>\n",
       "      <td>Kingsbridge</td>\n",
       "      <td>4ca785a597c8a1cd7e577ba5</td>\n",
       "      <td>El Economico Restaurant</td>\n",
       "      <td>18</td>\n",
       "      <td>7.6</td>\n",
       "      <td>8</td>\n",
       "    </tr>\n",
       "    <tr>\n",
       "      <th>3</th>\n",
       "      <td>Bronx</td>\n",
       "      <td>Kingsbridge</td>\n",
       "      <td>50ea5611e4b044bdeead3ade</td>\n",
       "      <td>Q'Kachapa</td>\n",
       "      <td>16</td>\n",
       "      <td>7.3</td>\n",
       "      <td>6</td>\n",
       "    </tr>\n",
       "    <tr>\n",
       "      <th>4</th>\n",
       "      <td>Manhattan</td>\n",
       "      <td>Marble Hill</td>\n",
       "      <td>4ca785a597c8a1cd7e577ba5</td>\n",
       "      <td>El Economico Restaurant</td>\n",
       "      <td>18</td>\n",
       "      <td>7.6</td>\n",
       "      <td>8</td>\n",
       "    </tr>\n",
       "  </tbody>\n",
       "</table>\n",
       "</div>"
      ],
      "text/plain": [
       "     Borough Neighborhood                        ID                     Name  \\\n",
       "0      Bronx    Wakefield                         0                        0   \n",
       "1      Bronx   Co-op City  58a9ca678ae363643f8827a2             Sangria Cafe   \n",
       "2      Bronx  Kingsbridge  4ca785a597c8a1cd7e577ba5  El Economico Restaurant   \n",
       "3      Bronx  Kingsbridge  50ea5611e4b044bdeead3ade                Q'Kachapa   \n",
       "4  Manhattan  Marble Hill  4ca785a597c8a1cd7e577ba5  El Economico Restaurant   \n",
       "\n",
       "   Likes  Rating  Tips  \n",
       "0      0     0.0     0  \n",
       "1      7     7.7     3  \n",
       "2     18     7.6     8  \n",
       "3     16     7.3     6  \n",
       "4     18     7.6     8  "
      ]
     },
     "execution_count": 22,
     "metadata": {},
     "output_type": "execute_result"
    }
   ],
   "source": [
    "spanish_rest_stats_ny_csv.head()"
   ]
  },
  {
   "cell_type": "markdown",
   "metadata": {},
   "source": [
    "### Let's check the data types in our Rating table and change them if needed:"
   ]
  },
  {
   "cell_type": "code",
   "execution_count": 23,
   "metadata": {},
   "outputs": [
    {
     "name": "stdout",
     "output_type": "stream",
     "text": [
      "<class 'pandas.core.frame.DataFrame'>\n",
      "RangeIndex: 112 entries, 0 to 111\n",
      "Data columns (total 7 columns):\n",
      " #   Column        Non-Null Count  Dtype \n",
      "---  ------        --------------  ----- \n",
      " 0   Borough       112 non-null    object\n",
      " 1   Neighborhood  112 non-null    object\n",
      " 2   ID            112 non-null    object\n",
      " 3   Name          112 non-null    object\n",
      " 4   Likes         112 non-null    object\n",
      " 5   Rating        112 non-null    object\n",
      " 6   Tips          112 non-null    object\n",
      "dtypes: object(7)\n",
      "memory usage: 6.2+ KB\n"
     ]
    }
   ],
   "source": [
    "spanish_rest_stats_ny.info()"
   ]
  },
  {
   "cell_type": "code",
   "execution_count": 24,
   "metadata": {},
   "outputs": [],
   "source": [
    "spanish_rest_stats_ny['Likes']=spanish_rest_stats_ny['Likes'].astype('float64')"
   ]
  },
  {
   "cell_type": "code",
   "execution_count": 25,
   "metadata": {},
   "outputs": [],
   "source": [
    "spanish_rest_stats_ny['Tips']=spanish_rest_stats_ny['Tips'].astype('float64')"
   ]
  },
  {
   "cell_type": "code",
   "execution_count": 32,
   "metadata": {},
   "outputs": [],
   "source": [
    "spanish_rest_stats_ny['Rating']=spanish_rest_stats_ny['Rating'].astype('float64')"
   ]
  },
  {
   "cell_type": "markdown",
   "metadata": {},
   "source": [
    "### Now that we corrected the data types, let's continue with the analysis"
   ]
  },
  {
   "cell_type": "code",
   "execution_count": 33,
   "metadata": {},
   "outputs": [
    {
     "name": "stdout",
     "output_type": "stream",
     "text": [
      "<class 'pandas.core.frame.DataFrame'>\n",
      "RangeIndex: 112 entries, 0 to 111\n",
      "Data columns (total 7 columns):\n",
      " #   Column        Non-Null Count  Dtype  \n",
      "---  ------        --------------  -----  \n",
      " 0   Borough       112 non-null    object \n",
      " 1   Neighborhood  112 non-null    object \n",
      " 2   ID            112 non-null    object \n",
      " 3   Name          112 non-null    object \n",
      " 4   Likes         112 non-null    float64\n",
      " 5   Rating        112 non-null    float64\n",
      " 6   Tips          112 non-null    float64\n",
      "dtypes: float64(3), object(4)\n",
      "memory usage: 6.2+ KB\n"
     ]
    }
   ],
   "source": [
    "spanish_rest_stats_ny.info()"
   ]
  },
  {
   "cell_type": "code",
   "execution_count": 30,
   "metadata": {},
   "outputs": [
    {
     "data": {
      "text/html": [
       "<div>\n",
       "<style scoped>\n",
       "    .dataframe tbody tr th:only-of-type {\n",
       "        vertical-align: middle;\n",
       "    }\n",
       "\n",
       "    .dataframe tbody tr th {\n",
       "        vertical-align: top;\n",
       "    }\n",
       "\n",
       "    .dataframe thead th {\n",
       "        text-align: right;\n",
       "    }\n",
       "</style>\n",
       "<table border=\"1\" class=\"dataframe\">\n",
       "  <thead>\n",
       "    <tr style=\"text-align: right;\">\n",
       "      <th></th>\n",
       "      <th>Likes</th>\n",
       "      <th>Tips</th>\n",
       "    </tr>\n",
       "  </thead>\n",
       "  <tbody>\n",
       "    <tr>\n",
       "      <th>count</th>\n",
       "      <td>112.000000</td>\n",
       "      <td>112.000000</td>\n",
       "    </tr>\n",
       "    <tr>\n",
       "      <th>mean</th>\n",
       "      <td>5.964286</td>\n",
       "      <td>3.062500</td>\n",
       "    </tr>\n",
       "    <tr>\n",
       "      <th>std</th>\n",
       "      <td>13.067344</td>\n",
       "      <td>5.921835</td>\n",
       "    </tr>\n",
       "    <tr>\n",
       "      <th>min</th>\n",
       "      <td>0.000000</td>\n",
       "      <td>0.000000</td>\n",
       "    </tr>\n",
       "    <tr>\n",
       "      <th>25%</th>\n",
       "      <td>0.000000</td>\n",
       "      <td>0.000000</td>\n",
       "    </tr>\n",
       "    <tr>\n",
       "      <th>50%</th>\n",
       "      <td>0.000000</td>\n",
       "      <td>0.000000</td>\n",
       "    </tr>\n",
       "    <tr>\n",
       "      <th>75%</th>\n",
       "      <td>7.000000</td>\n",
       "      <td>6.000000</td>\n",
       "    </tr>\n",
       "    <tr>\n",
       "      <th>max</th>\n",
       "      <td>66.000000</td>\n",
       "      <td>33.000000</td>\n",
       "    </tr>\n",
       "  </tbody>\n",
       "</table>\n",
       "</div>"
      ],
      "text/plain": [
       "            Likes        Tips\n",
       "count  112.000000  112.000000\n",
       "mean     5.964286    3.062500\n",
       "std     13.067344    5.921835\n",
       "min      0.000000    0.000000\n",
       "25%      0.000000    0.000000\n",
       "50%      0.000000    0.000000\n",
       "75%      7.000000    6.000000\n",
       "max     66.000000   33.000000"
      ]
     },
     "execution_count": 30,
     "metadata": {},
     "output_type": "execute_result"
    }
   ],
   "source": [
    "spanish_rest_stats_ny.describe()"
   ]
  },
  {
   "cell_type": "markdown",
   "metadata": {},
   "source": [
    "From the table above we have see that there are more thant half of entries with missing data for likes and tips, so we will do the analysis on the data we have"
   ]
  },
  {
   "cell_type": "markdown",
   "metadata": {},
   "source": [
    "### Identify and visualize neighborhood with the maximum average rating of restaurants\n"
   ]
  },
  {
   "cell_type": "code",
   "execution_count": 28,
   "metadata": {},
   "outputs": [
    {
     "data": {
      "text/plain": [
       "Borough                            Bronx\n",
       "Neighborhood                  Baychester\n",
       "ID              4be2ecf6b02ec9b6a5064ec0\n",
       "Name                     Caridad & Louie\n",
       "Likes                                 66\n",
       "Rating                                 8\n",
       "Tips                                  27\n",
       "Name: 9, dtype: object"
      ]
     },
     "execution_count": 28,
     "metadata": {},
     "output_type": "execute_result"
    }
   ],
   "source": [
    "# Show restaurants with maximum Likes\n",
    "spanish_rest_stats_ny.iloc[spanish_rest_stats_ny['Likes'].idxmax()]"
   ]
  },
  {
   "cell_type": "code",
   "execution_count": 34,
   "metadata": {},
   "outputs": [
    {
     "data": {
      "text/plain": [
       "Borough                             Bronx\n",
       "Neighborhood                  Parkchester\n",
       "ID               4eed3d759a52993fb7108490\n",
       "Name            Isla Verde Cafe & Express\n",
       "Likes                                  48\n",
       "Rating                                8.2\n",
       "Tips                                   14\n",
       "Name: 32, dtype: object"
      ]
     },
     "execution_count": 34,
     "metadata": {},
     "output_type": "execute_result"
    }
   ],
   "source": [
    "# Show restaurants with maximum Rating\n",
    "spanish_rest_stats_ny.iloc[spanish_rest_stats_ny['Rating'].idxmax()]"
   ]
  },
  {
   "cell_type": "code",
   "execution_count": 35,
   "metadata": {},
   "outputs": [
    {
     "data": {
      "text/plain": [
       "Borough                            Bronx\n",
       "Neighborhood                    Van Nest\n",
       "ID              4b8db810f964a5206a0a33e3\n",
       "Name                       Cafe Colonial\n",
       "Likes                                 42\n",
       "Rating                               7.3\n",
       "Tips                                  33\n",
       "Name: 35, dtype: object"
      ]
     },
     "execution_count": 35,
     "metadata": {},
     "output_type": "execute_result"
    }
   ],
   "source": [
    "# Show restaurants with maximum Tips\n",
    "spanish_rest_stats_ny.iloc[spanish_rest_stats_ny['Tips'].idxmax()]"
   ]
  },
  {
   "cell_type": "markdown",
   "metadata": {},
   "source": [
    "This way we identified 3 leading restaurants by Likes, Ratings and Tips "
   ]
  },
  {
   "cell_type": "markdown",
   "metadata": {},
   "source": [
    "### Restaurants with the higest Ratings by Neighborhood"
   ]
  },
  {
   "cell_type": "code",
   "execution_count": 36,
   "metadata": {},
   "outputs": [],
   "source": [
    "ny_neighborhood_stats=spanish_rest_stats_ny.groupby('Neighborhood',as_index=False).mean()[['Neighborhood','Rating']]\n",
    "ny_neighborhood_stats.columns=['Neighborhood','Average Rating']"
   ]
  },
  {
   "cell_type": "code",
   "execution_count": 37,
   "metadata": {},
   "outputs": [
    {
     "data": {
      "text/html": [
       "<div>\n",
       "<style scoped>\n",
       "    .dataframe tbody tr th:only-of-type {\n",
       "        vertical-align: middle;\n",
       "    }\n",
       "\n",
       "    .dataframe tbody tr th {\n",
       "        vertical-align: top;\n",
       "    }\n",
       "\n",
       "    .dataframe thead th {\n",
       "        text-align: right;\n",
       "    }\n",
       "</style>\n",
       "<table border=\"1\" class=\"dataframe\">\n",
       "  <thead>\n",
       "    <tr style=\"text-align: right;\">\n",
       "      <th></th>\n",
       "      <th>Neighborhood</th>\n",
       "      <th>Average Rating</th>\n",
       "    </tr>\n",
       "  </thead>\n",
       "  <tbody>\n",
       "    <tr>\n",
       "      <th>1</th>\n",
       "      <td>Baychester</td>\n",
       "      <td>7.850000</td>\n",
       "    </tr>\n",
       "    <tr>\n",
       "      <th>14</th>\n",
       "      <td>Co-op City</td>\n",
       "      <td>7.700000</td>\n",
       "    </tr>\n",
       "    <tr>\n",
       "      <th>59</th>\n",
       "      <td>Parkchester</td>\n",
       "      <td>7.666667</td>\n",
       "    </tr>\n",
       "    <tr>\n",
       "      <th>51</th>\n",
       "      <td>Mott Haven</td>\n",
       "      <td>7.600000</td>\n",
       "    </tr>\n",
       "    <tr>\n",
       "      <th>38</th>\n",
       "      <td>Kingsbridge</td>\n",
       "      <td>7.450000</td>\n",
       "    </tr>\n",
       "    <tr>\n",
       "      <th>67</th>\n",
       "      <td>Sunset Park</td>\n",
       "      <td>7.250000</td>\n",
       "    </tr>\n",
       "    <tr>\n",
       "      <th>7</th>\n",
       "      <td>Brownsville</td>\n",
       "      <td>7.100000</td>\n",
       "    </tr>\n",
       "    <tr>\n",
       "      <th>27</th>\n",
       "      <td>Fordham</td>\n",
       "      <td>7.060000</td>\n",
       "    </tr>\n",
       "    <tr>\n",
       "      <th>4</th>\n",
       "      <td>Belmont</td>\n",
       "      <td>7.000000</td>\n",
       "    </tr>\n",
       "    <tr>\n",
       "      <th>48</th>\n",
       "      <td>Morris Heights</td>\n",
       "      <td>6.900000</td>\n",
       "    </tr>\n",
       "  </tbody>\n",
       "</table>\n",
       "</div>"
      ],
      "text/plain": [
       "      Neighborhood  Average Rating\n",
       "1       Baychester        7.850000\n",
       "14      Co-op City        7.700000\n",
       "59     Parkchester        7.666667\n",
       "51      Mott Haven        7.600000\n",
       "38     Kingsbridge        7.450000\n",
       "67     Sunset Park        7.250000\n",
       "7      Brownsville        7.100000\n",
       "27         Fordham        7.060000\n",
       "4          Belmont        7.000000\n",
       "48  Morris Heights        6.900000"
      ]
     },
     "execution_count": 37,
     "metadata": {},
     "output_type": "execute_result"
    }
   ],
   "source": [
    "#Let's check the top 10 neighborhoods that have the highest average rating for spanish restaurants\n",
    "ny_neighborhood_stats.sort_values(['Average Rating'],ascending=False).head(10)\n"
   ]
  },
  {
   "cell_type": "code",
   "execution_count": 38,
   "metadata": {},
   "outputs": [],
   "source": [
    "#Let's do the same with boroughs:\n",
    "\n",
    "ny_borough_stats=spanish_rest_stats_ny.groupby('Borough',as_index=False).mean()[['Borough','Rating']]\n",
    "ny_borough_stats.columns=['Borough','Average Rating']"
   ]
  },
  {
   "cell_type": "code",
   "execution_count": 39,
   "metadata": {},
   "outputs": [
    {
     "data": {
      "text/html": [
       "<div>\n",
       "<style scoped>\n",
       "    .dataframe tbody tr th:only-of-type {\n",
       "        vertical-align: middle;\n",
       "    }\n",
       "\n",
       "    .dataframe tbody tr th {\n",
       "        vertical-align: top;\n",
       "    }\n",
       "\n",
       "    .dataframe thead th {\n",
       "        text-align: right;\n",
       "    }\n",
       "</style>\n",
       "<table border=\"1\" class=\"dataframe\">\n",
       "  <thead>\n",
       "    <tr style=\"text-align: right;\">\n",
       "      <th></th>\n",
       "      <th>Borough</th>\n",
       "      <th>Average Rating</th>\n",
       "    </tr>\n",
       "  </thead>\n",
       "  <tbody>\n",
       "    <tr>\n",
       "      <th>0</th>\n",
       "      <td>Bronx</td>\n",
       "      <td>4.919608</td>\n",
       "    </tr>\n",
       "    <tr>\n",
       "      <th>1</th>\n",
       "      <td>Brooklyn</td>\n",
       "      <td>2.160000</td>\n",
       "    </tr>\n",
       "    <tr>\n",
       "      <th>2</th>\n",
       "      <td>Manhattan</td>\n",
       "      <td>0.620833</td>\n",
       "    </tr>\n",
       "    <tr>\n",
       "      <th>3</th>\n",
       "      <td>Queens</td>\n",
       "      <td>0.000000</td>\n",
       "    </tr>\n",
       "    <tr>\n",
       "      <th>4</th>\n",
       "      <td>Staten Island</td>\n",
       "      <td>0.000000</td>\n",
       "    </tr>\n",
       "  </tbody>\n",
       "</table>\n",
       "</div>"
      ],
      "text/plain": [
       "         Borough  Average Rating\n",
       "0          Bronx        4.919608\n",
       "1       Brooklyn        2.160000\n",
       "2      Manhattan        0.620833\n",
       "3         Queens        0.000000\n",
       "4  Staten Island        0.000000"
      ]
     },
     "execution_count": 39,
     "metadata": {},
     "output_type": "execute_result"
    }
   ],
   "source": [
    "ny_borough_stats.sort_values(['Average Rating'],ascending=False).head()"
   ]
  },
  {
   "cell_type": "markdown",
   "metadata": {},
   "source": [
    "### Let's visualize these results of top rated spanish restaurants"
   ]
  },
  {
   "cell_type": "code",
   "execution_count": 40,
   "metadata": {},
   "outputs": [
    {
     "data": {
      "image/png": "[encoded data removed]",
      "text/plain": [
       "<Figure size 900x500 with 1 Axes>"
      ]
     },
     "metadata": {},
     "output_type": "display_data"
    }
   ],
   "source": [
    "plt.figure(figsize=(9,5), dpi = 100)\n",
    "# title\n",
    "plt.title('Average rating of Spanish Restaurant in each  NYC Borough')\n",
    "#On x-axis\n",
    "plt.xlabel('Borough', fontsize = 15)\n",
    "#On y-axis\n",
    "plt.ylabel('Average Rating', fontsize=15)\n",
    "#giving a bar plot\n",
    "spanish_rest_stats_ny.groupby('Borough').mean()['Rating'].plot(kind='bar')\n",
    "#legend\n",
    "plt.legend()\n",
    "#displays the plot\n",
    "plt.show()"
   ]
  },
  {
   "cell_type": "markdown",
   "metadata": {},
   "source": [
    "What borough has the highest average rating for a spanish restaurant in Bronx. It is not surprising given that Bronx has the most Spanish restaurants. We can now conclude that not only Bronx has the most spanish restaurants, it also has the highest rated restaurants."
   ]
  },
  {
   "cell_type": "markdown",
   "metadata": {},
   "source": [
    "## Limitations and recommendations"
   ]
  },
  {
   "cell_type": "markdown",
   "metadata": {},
   "source": [
    "The biggest limitation was that the data was not available on venues ratings in the city. We determined where/how spanish restaurants are distrubuted in NYC but we can only conclude on the best restaurants with the data we have."
   ]
  },
  {
   "cell_type": "markdown",
   "metadata": {},
   "source": [
    "Bronx has the highest number of the spanish restaurants and these restaurants have the highest ratings on average so it might be difficult to compete.\n",
    "<li>I would recommend to open a new restaurant in Queens and/or Brooklyn because it has more neighborhoods and much fewer spanish restaurants. \n",
    "    <li>Possibility for less competition and a bigger crowd.\n",
    "        </li>"
   ]
  }
 ],
 "metadata": {
  "kernelspec": {
   "display_name": "Python 3.7",
   "language": "python",
   "name": "python3"
  }
 },
 "nbformat": 4,
 "nbformat_minor": 1
}
